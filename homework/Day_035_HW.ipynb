{
 "cells": [
  {
   "cell_type": "markdown",
   "metadata": {},
   "source": [
    "請搜尋目標為多標籤問題 (Multi-label) 的機器學習案例，了解其資料來源、目標以及評估指標為何\n",
    "\n",
    "案例：使用DNA sequence 判別蛋白質的功能\n",
    "\n",
    "資料來源：人體 DNA sequence\n",
    "\n",
    "目標：希望透過DNA sequence，來預測蛋白質是否參與在某個pathway中，由於細胞中有很多不同的pathway，所以可以看作是一個multi label的問題\n",
    "\n",
    "評估指標：因為輸出就是各種pathway的預測，所以數值不是1就是0，所以可以利用binary classificatin entropy loss來評估預測的結果。"
   ]
  },
  {
   "cell_type": "code",
   "execution_count": null,
   "metadata": {},
   "outputs": [],
   "source": []
  }
 ],
 "metadata": {
  "kernelspec": {
   "display_name": "Python 3",
   "language": "python",
   "name": "python3"
  },
  "language_info": {
   "codemirror_mode": {
    "name": "ipython",
    "version": 3
   },
   "file_extension": ".py",
   "mimetype": "text/x-python",
   "name": "python",
   "nbconvert_exporter": "python",
   "pygments_lexer": "ipython3",
   "version": "3.7.1"
  }
 },
 "nbformat": 4,
 "nbformat_minor": 2
}
