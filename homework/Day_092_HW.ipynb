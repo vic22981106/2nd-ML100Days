{
 "cells": [
  {
   "cell_type": "markdown",
   "metadata": {},
   "source": [
    "Q1: 若使用總共 128 個濾波器 (filters)，對一張 256x256 的影像做完卷積後，共會得到幾張特徵圖 (feature maps)？\n",
    "\n",
    "每一個濾波器(filter)可以把它想像成是一個特定的feature detector，所以使用N個filter進行convolution，output就會有N個feature map，所以根據問題，使用128個濾波器，最後就會有128個feature map，假設kernal size = 5x5，最後就會有大小為252 x 252的feature map，數量有128個（252 x 252 x 128）。(這樣的計算是基於幾個前提：進行convolution時，slid = 1x1, no padding。)"
   ]
  },
  {
   "cell_type": "markdown",
   "metadata": {},
   "source": [
    "Q2: 卷積神經網路中，濾波器的大小 (3x3 or 5x5) 與內部數字的值 (value) 是怎麼決定的呢？\n",
    "    \n",
    "濾波器的大小是可以自行決定的，可以根據自己的喜好或是根據訓練情況做調整，另外濾波器內部的數字一開始都是隨機的數值，但是當開始訓練之後，就會根據loss去計算gradient，進而去更新濾波器內部的數值，或是也可以說是在更新權重(weight)。所以一旦開始訓練之後，CNN就像是一個黑盒子一樣，他怎麼學的你可能不會知道，但是一旦訓練好之後，他就是有能力去進行image classfication。"
   ]
  },
  {
   "cell_type": "code",
   "execution_count": null,
   "metadata": {},
   "outputs": [],
   "source": []
  }
 ],
 "metadata": {
  "kernelspec": {
   "display_name": "Python 3",
   "language": "python",
   "name": "python3"
  },
  "language_info": {
   "codemirror_mode": {
    "name": "ipython",
    "version": 3
   },
   "file_extension": ".py",
   "mimetype": "text/x-python",
   "name": "python",
   "nbconvert_exporter": "python",
   "pygments_lexer": "ipython3",
   "version": "3.7.1"
  }
 },
 "nbformat": 4,
 "nbformat_minor": 2
}
