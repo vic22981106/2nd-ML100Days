{
 "cells": [
  {
   "cell_type": "code",
   "execution_count": 1,
   "metadata": {},
   "outputs": [],
   "source": [
    "import numpy as np\n",
    "import matplotlib.pyplot as plt\n",
    "from sklearn import datasets, linear_model\n",
    "from sklearn.model_selection import train_test_split\n",
    "from sklearn.metrics import mean_squared_error, r2_score, accuracy_score"
   ]
  },
  {
   "cell_type": "code",
   "execution_count": 2,
   "metadata": {},
   "outputs": [],
   "source": [
    "# get those dataset from sklaern dataset\n",
    "wine = datasets.load_wine() # classification label: 0 ,1 ,2\n",
    "boston = datasets.load_boston() # regression label:  values from 5~50\n",
    "breast_cancer = datasets.load_breast_cancer() # classification label: 0,1,"
   ]
  },
  {
   "cell_type": "code",
   "execution_count": 3,
   "metadata": {},
   "outputs": [
    {
     "name": "stdout",
     "output_type": "stream",
     "text": [
      "Lasso coefficient : \n",
      " [-0.          0.         -0.          0.02903446  0.00036735 -0.\n",
      " -0.29879073  0.         -0.          0.09727668 -0.         -0.\n",
      " -0.00123357]\n",
      "\n",
      "Score:  0.8362918786834533\n"
     ]
    }
   ],
   "source": [
    "# wine Lasso\n",
    "x_train, x_test, y_train, y_test = train_test_split(wine.data, wine.target, test_size=0.1, random_state=4)\n",
    "Lasso = linear_model.Lasso(alpha=0.1)\n",
    "Lasso.fit(x_train, y_train)\n",
    "y_pred = Lasso.predict(x_test)\n",
    "score = r2_score(y_test, y_pred)\n",
    "\n",
    "print(\"Lasso coefficient : \\n\", Lasso.coef_)\n",
    "print(\"\\nScore: \", score)"
   ]
  },
  {
   "cell_type": "code",
   "execution_count": 4,
   "metadata": {},
   "outputs": [
    {
     "name": "stdout",
     "output_type": "stream",
     "text": [
      "Ridge coefficient : \n",
      " [-1.04747678e-01  2.93000101e-02 -1.78367204e-01  4.30426463e-02\n",
      "  1.41525650e-04  1.46625147e-01 -3.68355272e-01 -2.40726939e-01\n",
      "  4.17957485e-02  7.48587578e-02 -1.56797641e-01 -2.63031694e-01\n",
      " -7.45368953e-04]\n",
      "\n",
      "Score:  0.898942560401847\n"
     ]
    }
   ],
   "source": [
    "# wine Ridge\n",
    "x_train, x_test, y_train, y_test = train_test_split(wine.data, wine.target, test_size=0.1, random_state=4)\n",
    "R = linear_model.Ridge(alpha=0.1)\n",
    "R.fit(x_train, y_train)\n",
    "y_pred = R.predict(x_test)\n",
    "score = r2_score(y_test, y_pred)\n",
    "print(\"Ridge coefficient : \\n\", R.coef_)\n",
    "print(\"\\nScore: \", score)"
   ]
  },
  {
   "cell_type": "code",
   "execution_count": 5,
   "metadata": {},
   "outputs": [
    {
     "name": "stdout",
     "output_type": "stream",
     "text": [
      "Lasso coefficient : \n",
      " [ 2.92697934e-02 -7.61975263e-03  2.15831283e-04 -2.91924694e-04\n",
      " -0.00000000e+00  1.95266483e+00 -8.39898410e-01 -5.86634550e-01\n",
      "  0.00000000e+00 -0.00000000e+00 -5.52615412e-01 -1.14577120e-02\n",
      " -1.24290833e-02  2.52403984e-03 -0.00000000e+00 -0.00000000e+00\n",
      "  1.41836425e+00 -0.00000000e+00 -0.00000000e+00 -0.00000000e+00\n",
      " -1.65283472e-01 -4.62954045e-03  5.18582383e-03  7.76876395e-04\n",
      " -2.17938734e+00  0.00000000e+00 -3.78463610e-01 -1.17414179e+00\n",
      " -6.24346534e-01 -1.08589162e+00]\n",
      "\n",
      "R2 score:  0.7102400050527943\n"
     ]
    },
    {
     "name": "stderr",
     "output_type": "stream",
     "text": [
      "/Users/vincent/anaconda3/lib/python3.7/site-packages/sklearn/linear_model/coordinate_descent.py:492: ConvergenceWarning: Objective did not converge. You might want to increase the number of iterations. Fitting data with very small alpha may cause precision problems.\n",
      "  ConvergenceWarning)\n"
     ]
    }
   ],
   "source": [
    "# breast cancer Lasso\n",
    "x_train, x_test, y_train, y_test = train_test_split(breast_cancer.data, breast_cancer.target, test_size=0.1, random_state=4)\n",
    "Lasso = linear_model.Lasso(alpha=0.0001)\n",
    "Lasso.fit(x_train, y_train)\n",
    "y_pred = Lasso.predict(x_test)\n",
    "Score = r2_score(y_test, y_pred)\n",
    "print(\"Lasso coefficient : \\n\", Lasso.coef_)\n",
    "print(\"\\nR2 score: \", Score)"
   ]
  },
  {
   "cell_type": "code",
   "execution_count": 6,
   "metadata": {},
   "outputs": [
    {
     "name": "stdout",
     "output_type": "stream",
     "text": [
      "Ridge coefficient : \n",
      " [ 1.60669323e-01 -7.19665617e-04 -1.29511143e-02 -5.20628049e-04\n",
      " -7.81808835e-01  3.62976753e+00 -1.49948332e+00 -1.02740353e+00\n",
      "  2.00292138e-01 -1.86542026e+00 -5.33378058e-01  3.04499352e-02\n",
      "  2.82408327e-02  1.16371104e-03 -1.70115985e+01 -7.58731406e-01\n",
      "  3.66359330e+00 -1.25274763e+01 -1.05771622e+00  1.17338925e+01\n",
      " -2.01412663e-01 -1.10801580e-02  1.16364963e-03  1.11760724e-03\n",
      " -9.59504821e-02  1.31443521e-01 -4.61374512e-01 -1.62666354e-01\n",
      " -7.49127050e-01 -4.49114214e+00]\n",
      "\n",
      "R2 score:  0.7104142291404156\n"
     ]
    }
   ],
   "source": [
    "# breast cancer Ridge\n",
    "x_train, x_test, y_train, y_test = train_test_split(breast_cancer.data, breast_cancer.target, test_size=0.1, random_state=4)\n",
    "Ridge = linear_model.Ridge(alpha=0.0001)\n",
    "Ridge.fit(x_train, y_train)\n",
    "y_pred = Ridge.predict(x_test)\n",
    "Score = r2_score(y_test, y_pred)\n",
    "print(\"Ridge coefficient : \\n\", Ridge.coef_)\n",
    "print(\"\\nR2 score: \", Score)"
   ]
  },
  {
   "cell_type": "code",
   "execution_count": 7,
   "metadata": {},
   "outputs": [
    {
     "name": "stdout",
     "output_type": "stream",
     "text": [
      "Coefficients: \n",
      " [-0.64957757]\n",
      "Mean squared error: 63.06\n"
     ]
    },
    {
     "data": {
      "image/png": "[encoded data removed]",
      "text/plain": [
       "<Figure size 432x288 with 1 Axes>"
      ]
     },
     "metadata": {
      "needs_background": "light"
     },
     "output_type": "display_data"
    }
   ],
   "source": [
    "# boston Lasso\n",
    "# X = boston.data\n",
    "X = boston.data[:, np.newaxis, 2]\n",
    "x_train, x_test, y_train, y_test = train_test_split(X, boston.target, test_size=0.1, random_state=4)\n",
    "L = linear_model.Lasso(0.001)\n",
    "L.fit(x_train, y_train)\n",
    "y_pred = L.predict(x_test)\n",
    "\n",
    "# print out the value of coefficients\n",
    "print('Coefficients: \\n', L.coef_)\n",
    "\n",
    "# MSE error\n",
    "print(\"Mean squared error: %.2f\"% mean_squared_error(y_test, y_pred))\n",
    "\n",
    "# plotting for visualization of data distribution according to the target\n",
    "plt.scatter(x_test, y_test,  color='black')\n",
    "plt.plot(x_test, y_pred, color='blue', linewidth=2)\n",
    "plt.show()"
   ]
  },
  {
   "cell_type": "code",
   "execution_count": 8,
   "metadata": {},
   "outputs": [
    {
     "name": "stdout",
     "output_type": "stream",
     "text": [
      "Coefficients: \n",
      " [-0.64959882]\n",
      "Mean squared error: 63.06\n"
     ]
    },
    {
     "data": {
      "image/png": "[encoded data removed]",
      "text/plain": [
       "<Figure size 432x288 with 1 Axes>"
      ]
     },
     "metadata": {
      "needs_background": "light"
     },
     "output_type": "display_data"
    }
   ],
   "source": [
    "# boston Ridge\n",
    "# X = boston.data\n",
    "X = boston.data[:, np.newaxis, 2]\n",
    "x_train, x_test, y_train, y_test = train_test_split(X, boston.target, test_size=0.1, random_state=4)\n",
    "RIDGE = linear_model.Ridge(0.001)\n",
    "RIDGE.fit(x_train, y_train)\n",
    "y_pred =RIDGE.predict(x_test)\n",
    "\n",
    "# print out the value of coefficients\n",
    "print('Coefficients: \\n', RIDGE.coef_)\n",
    "\n",
    "# MSE error\n",
    "print(\"Mean squared error: %.2f\"% mean_squared_error(y_test, y_pred))\n",
    "\n",
    "# plotting for visualization of data distribution according to the target\n",
    "plt.scatter(x_test, y_test,  color='black')\n",
    "plt.plot(x_test, y_pred, color='blue', linewidth=2)\n",
    "plt.show()"
   ]
  },
  {
   "cell_type": "code",
   "execution_count": null,
   "metadata": {},
   "outputs": [],
   "source": []
  }
 ],
 "metadata": {
  "kernelspec": {
   "display_name": "Python 3",
   "language": "python",
   "name": "python3"
  },
  "language_info": {
   "codemirror_mode": {
    "name": "ipython",
    "version": 3
   },
   "file_extension": ".py",
   "mimetype": "text/x-python",
   "name": "python",
   "nbconvert_exporter": "python",
   "pygments_lexer": "ipython3",
   "version": "3.7.1"
  }
 },
 "nbformat": 4,
 "nbformat_minor": 2
}
