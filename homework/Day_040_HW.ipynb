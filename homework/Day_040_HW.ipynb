{
 "cells": [
  {
   "cell_type": "code",
   "execution_count": 1,
   "metadata": {},
   "outputs": [],
   "source": [
    "import numpy as np\n",
    "import matplotlib.pyplot as plt\n",
    "from sklearn import datasets, linear_model\n",
    "from sklearn.model_selection import train_test_split\n",
    "from sklearn.metrics import mean_squared_error, r2_score, accuracy_score"
   ]
  },
  {
   "cell_type": "code",
   "execution_count": 2,
   "metadata": {},
   "outputs": [],
   "source": [
    "# get those dataset from sklaern dataset\n",
    "wine = datasets.load_wine() # classification label: 0 ,1 ,2\n",
    "boston = datasets.load_boston() # regression label:  values from 5~50\n",
    "breast_cancer = datasets.load_breast_cancer() # classification label: 0,1,"
   ]
  },
  {
   "cell_type": "code",
   "execution_count": 3,
   "metadata": {},
   "outputs": [
    {
     "name": "stdout",
     "output_type": "stream",
     "text": [
      "Lasso coefficient : \n",
      " [-0.          0.         -0.          0.02903446  0.00036735 -0.\n",
      " -0.29879073  0.         -0.          0.09727668 -0.         -0.\n",
      " -0.00123357]\n",
      "\n",
      "Score:  0.8362918786834533\n"
     ]
    }
   ],
   "source": [
    "# wine Lasso\n",
    "x_train, x_test, y_train, y_test = train_test_split(wine.data, wine.target, test_size=0.1, random_state=4)\n",
    "Lasso = linear_model.Lasso(alpha=0.1)\n",
    "Lasso.fit(x_train, y_train)\n",
    "y_pred = Lasso.predict(x_test)\n",
    "score = r2_score(y_test, y_pred)\n",
    "\n",
    "print(\"Lasso coefficient : \\n\", Lasso.coef_)\n",
    "print(\"\\nScore: \", score)"
   ]
  },
  {
   "cell_type": "code",
   "execution_count": 9,
   "metadata": {},
   "outputs": [
    {
     "name": "stdout",
     "output_type": "stream",
     "text": [
      "Lasso coefficient : \n",
      " [-0.07129937  0.02695771 -0.          0.03160152  0.00038441  0.\n",
      " -0.30042484 -0.          0.00143958  0.08430527 -0.         -0.20532845\n",
      " -0.00089826]\n",
      "\n",
      "Score:  0.8893684266693259\n"
     ]
    }
   ],
   "source": [
    "# wine Lasso\n",
    "x_train, x_test, y_train, y_test = train_test_split(wine.data, wine.target, test_size=0.1, random_state=4)\n",
    "Lasso = linear_model.Lasso(alpha=0.01)\n",
    "Lasso.fit(x_train, y_train)\n",
    "y_pred = Lasso.predict(x_test)\n",
    "score = r2_score(y_test, y_pred)\n",
    "\n",
    "print(\"Lasso coefficient : \\n\", Lasso.coef_)\n",
    "print(\"\\nScore: \", score)"
   ]
  },
  {
   "cell_type": "code",
   "execution_count": 11,
   "metadata": {},
   "outputs": [
    {
     "name": "stdout",
     "output_type": "stream",
     "text": [
      "Ridge coefficient : \n",
      " [-1.02585859e-01  3.04760174e-02 -1.72984304e-01  4.20252277e-02\n",
      "  3.29809025e-04  1.22527858e-01 -3.52268478e-01 -1.43905193e-01\n",
      "  3.86108428e-02  7.68595958e-02 -1.38667607e-01 -2.52968701e-01\n",
      " -7.60006286e-04]\n",
      "\n",
      "Score:  0.897912126495945\n"
     ]
    }
   ],
   "source": [
    "# wine Ridge\n",
    "x_train, x_test, y_train, y_test = train_test_split(wine.data, wine.target, test_size=0.1, random_state=4)\n",
    "R = linear_model.Ridge(alpha=1)\n",
    "R.fit(x_train, y_train)\n",
    "y_pred = R.predict(x_test)\n",
    "score = r2_score(y_test, y_pred)\n",
    "print(\"Ridge coefficient : \\n\", R.coef_)\n",
    "print(\"\\nScore: \", score)"
   ]
  },
  {
   "cell_type": "code",
   "execution_count": 10,
   "metadata": {},
   "outputs": [
    {
     "name": "stdout",
     "output_type": "stream",
     "text": [
      "Ridge coefficient : \n",
      " [-1.05036514e-01  2.92009058e-02 -1.77937433e-01  4.31436363e-02\n",
      "  1.05560800e-04  1.49557478e-01 -3.70569519e-01 -2.57801087e-01\n",
      "  4.22406022e-02  7.46429327e-02 -1.58321214e-01 -2.64450813e-01\n",
      " -7.43948497e-04]\n",
      "\n",
      "Score:  0.8990709154895247\n"
     ]
    }
   ],
   "source": [
    "# wine Ridge\n",
    "x_train, x_test, y_train, y_test = train_test_split(wine.data, wine.target, test_size=0.1, random_state=4)\n",
    "R = linear_model.Ridge(alpha=0.01)\n",
    "R.fit(x_train, y_train)\n",
    "y_pred = R.predict(x_test)\n",
    "score = r2_score(y_test, y_pred)\n",
    "print(\"Ridge coefficient : \\n\", R.coef_)\n",
    "print(\"\\nScore: \", score)"
   ]
  },
  {
   "cell_type": "code",
   "execution_count": 12,
   "metadata": {},
   "outputs": [
    {
     "name": "stdout",
     "output_type": "stream",
     "text": [
      "Lasso coefficient : \n",
      " [-0.         -0.         -0.         -0.         -0.         -0.\n",
      " -0.         -0.         -0.         -0.         -0.         -0.\n",
      " -0.          0.         -0.         -0.         -0.         -0.\n",
      " -0.         -0.         -0.         -0.         -0.00330354 -0.00042856\n",
      " -0.         -0.         -0.         -0.         -0.         -0.        ]\n",
      "\n",
      "R2 score:  0.48219375400045184\n"
     ]
    }
   ],
   "source": [
    "# breast cancer Lasso\n",
    "x_train, x_test, y_train, y_test = train_test_split(breast_cancer.data, breast_cancer.target, test_size=0.1, random_state=4)\n",
    "Lasso = linear_model.Lasso(alpha=1)\n",
    "Lasso.fit(x_train, y_train)\n",
    "y_pred = Lasso.predict(x_test)\n",
    "Score = r2_score(y_test, y_pred)\n",
    "print(\"Lasso coefficient : \\n\", Lasso.coef_)\n",
    "print(\"\\nR2 score: \", Score)"
   ]
  },
  {
   "cell_type": "code",
   "execution_count": 16,
   "metadata": {},
   "outputs": [
    {
     "name": "stdout",
     "output_type": "stream",
     "text": [
      "Lasso coefficient : \n",
      " [ 0.          0.00443882  0.          0.00040035 -0.         -0.\n",
      " -0.         -0.         -0.         -0.         -0.         -0.\n",
      " -0.         -0.00131442 -0.         -0.         -0.         -0.\n",
      " -0.         -0.         -0.09056494 -0.01635105 -0.01311363  0.00079205\n",
      " -0.         -0.         -0.02717806 -0.         -0.         -0.        ]\n",
      "\n",
      "R2 score:  0.5773757948269941\n"
     ]
    }
   ],
   "source": [
    "# breast cancer Lasso\n",
    "x_train, x_test, y_train, y_test = train_test_split(breast_cancer.data, breast_cancer.target, test_size=0.1, random_state=4)\n",
    "Lasso = linear_model.Lasso(alpha=0.01)\n",
    "Lasso.fit(x_train, y_train)\n",
    "y_pred = Lasso.predict(x_test)\n",
    "Score = r2_score(y_test, y_pred)\n",
    "print(\"Lasso coefficient : \\n\", Lasso.coef_)\n",
    "print(\"\\nR2 score: \", Score)"
   ]
  },
  {
   "cell_type": "code",
   "execution_count": 17,
   "metadata": {},
   "outputs": [
    {
     "name": "stdout",
     "output_type": "stream",
     "text": [
      "Lasso coefficient : \n",
      " [ 3.05841731e-02 -1.41935579e-03 -1.83523880e-03 -1.05704544e-04\n",
      " -3.02229897e-01  3.02826955e+00 -1.54759593e+00 -9.79701019e-01\n",
      "  2.71597337e-01 -0.00000000e+00 -5.03763857e-01  3.01527934e-02\n",
      " -1.01163140e-03  1.87408324e-03 -1.51839295e+01  0.00000000e+00\n",
      "  3.64424232e+00 -8.58420925e+00 -2.39389767e-01  0.00000000e+00\n",
      " -1.62698342e-01 -1.06769882e-02  3.15746148e-03  8.17742179e-04\n",
      " -7.10132334e-01  8.83273531e-02 -4.71049126e-01 -4.74705764e-01\n",
      " -8.61457071e-01 -3.32946071e+00]\n",
      "\n",
      "R2 score:  0.7200909129541416\n"
     ]
    },
    {
     "name": "stderr",
     "output_type": "stream",
     "text": [
      "/Users/vincent/anaconda3/lib/python3.7/site-packages/sklearn/linear_model/coordinate_descent.py:492: ConvergenceWarning: Objective did not converge. You might want to increase the number of iterations. Fitting data with very small alpha may cause precision problems.\n",
      "  ConvergenceWarning)\n"
     ]
    }
   ],
   "source": [
    "# breast cancer Lasso\n",
    "x_train, x_test, y_train, y_test = train_test_split(breast_cancer.data, breast_cancer.target, test_size=0.1, random_state=4)\n",
    "Lasso = linear_model.Lasso(alpha=0.00001)\n",
    "Lasso.fit(x_train, y_train)\n",
    "y_pred = Lasso.predict(x_test)\n",
    "Score = r2_score(y_test, y_pred)\n",
    "print(\"Lasso coefficient : \\n\", Lasso.coef_)\n",
    "print(\"\\nR2 score: \", Score)"
   ]
  },
  {
   "cell_type": "code",
   "execution_count": 18,
   "metadata": {},
   "outputs": [
    {
     "name": "stdout",
     "output_type": "stream",
     "text": [
      "Ridge coefficient : \n",
      " [ 7.51444044e-02 -7.78833925e-03 -2.33531985e-03 -4.44623271e-04\n",
      " -2.05095306e-02  2.65541350e+00 -1.04331963e+00 -1.18643504e+00\n",
      "  1.56597322e-01 -2.53707887e-01 -5.15963075e-01 -6.15359269e-03\n",
      "  4.86572302e-04  1.92159460e-03 -2.60165937e+00 -6.85085890e-01\n",
      "  2.27155683e+00 -2.06383923e+00 -1.02190413e+00  2.40110105e-01\n",
      " -1.82921703e-01 -4.52409586e-03  3.01636267e-03  9.63578957e-04\n",
      " -1.92422163e+00  1.29162939e-01 -4.14441281e-01 -1.02364484e+00\n",
      " -6.30971136e-01 -2.26874217e+00]\n",
      "\n",
      "R2 score:  0.7212066273451283\n"
     ]
    }
   ],
   "source": [
    "# breast cancer Ridge\n",
    "x_train, x_test, y_train, y_test = train_test_split(breast_cancer.data, breast_cancer.target, test_size=0.1, random_state=4)\n",
    "Ridge = linear_model.Ridge(alpha=0.01)\n",
    "Ridge.fit(x_train, y_train)\n",
    "y_pred = Ridge.predict(x_test)\n",
    "Score = r2_score(y_test, y_pred)\n",
    "print(\"Ridge coefficient : \\n\", Ridge.coef_)\n",
    "print(\"\\nR2 score: \", Score)"
   ]
  },
  {
   "cell_type": "code",
   "execution_count": 21,
   "metadata": {},
   "outputs": [
    {
     "name": "stdout",
     "output_type": "stream",
     "text": [
      "Ridge coefficient : \n",
      " [ 1.26578314e-01 -3.47731483e-03 -9.04668155e-03 -4.63049279e-04\n",
      " -3.03810827e-01  3.39906110e+00 -1.41069583e+00 -1.15362085e+00\n",
      "  1.46096527e-01 -8.61014875e-01 -5.03886600e-01  1.84941306e-02\n",
      "  1.51394901e-02  1.42226274e-03 -1.06565072e+01 -6.33836965e-01\n",
      "  3.40865635e+00 -8.75404064e+00 -1.42300221e+00  3.64148895e+00\n",
      " -1.93551632e-01 -8.57096140e-03  1.93019902e-03  1.05133039e-03\n",
      " -1.05886092e+00  1.08641709e-01 -4.48202035e-01 -4.63119899e-01\n",
      " -6.64079255e-01 -3.51006844e+00]\n",
      "\n",
      "R2 score:  0.7220223884955413\n"
     ]
    }
   ],
   "source": [
    "# breast cancer Ridge\n",
    "x_train, x_test, y_train, y_test = train_test_split(breast_cancer.data, breast_cancer.target, test_size=0.1, random_state=4)\n",
    "Ridge = linear_model.Ridge(alpha=0.001)\n",
    "Ridge.fit(x_train, y_train)\n",
    "y_pred = Ridge.predict(x_test)\n",
    "Score = r2_score(y_test, y_pred)\n",
    "print(\"Ridge coefficient : \\n\", Ridge.coef_)\n",
    "print(\"\\nR2 score: \", Score)"
   ]
  },
  {
   "cell_type": "code",
   "execution_count": 30,
   "metadata": {},
   "outputs": [
    {
     "name": "stdout",
     "output_type": "stream",
     "text": [
      "Coefficients: \n",
      " [-0.61767202]\n",
      "Mean squared error: 63.08\n"
     ]
    },
    {
     "data": {
      "image/png": "[encoded data removed]",
      "text/plain": [
       "<Figure size 432x288 with 1 Axes>"
      ]
     },
     "metadata": {
      "needs_background": "light"
     },
     "output_type": "display_data"
    }
   ],
   "source": [
    "# boston Lasso\n",
    "# X = boston.data\n",
    "X = boston.data[:, np.newaxis, 2]\n",
    "x_train, x_test, y_train, y_test = train_test_split(X, boston.target, test_size=0.1, random_state=4)\n",
    "L = linear_model.Lasso(1.5)\n",
    "L.fit(x_train, y_train)\n",
    "y_pred = L.predict(x_test)\n",
    "\n",
    "# print out the value of coefficients\n",
    "print('Coefficients: \\n', L.coef_)\n",
    "\n",
    "# MSE error\n",
    "print(\"Mean squared error: %.2f\"% mean_squared_error(y_test, y_pred))\n",
    "\n",
    "# plotting for visualization of data distribution according to the target\n",
    "plt.scatter(x_test, y_test,  color='black')\n",
    "plt.plot(x_test, y_pred, color='blue', linewidth=2)\n",
    "plt.show()"
   ]
  },
  {
   "cell_type": "code",
   "execution_count": 29,
   "metadata": {},
   "outputs": [
    {
     "name": "stdout",
     "output_type": "stream",
     "text": [
      "Coefficients: \n",
      " [-0.63895657]\n",
      "Mean squared error: 63.06\n"
     ]
    },
    {
     "data": {
      "image/png": "[encoded data removed]",
      "text/plain": [
       "<Figure size 432x288 with 1 Axes>"
      ]
     },
     "metadata": {
      "needs_background": "light"
     },
     "output_type": "display_data"
    }
   ],
   "source": [
    "# boston Lasso\n",
    "# X = boston.data\n",
    "X = boston.data[:, np.newaxis, 2]\n",
    "x_train, x_test, y_train, y_test = train_test_split(X, boston.target, test_size=0.1, random_state=4)\n",
    "L = linear_model.Lasso(0.5)\n",
    "L.fit(x_train, y_train)\n",
    "y_pred = L.predict(x_test)\n",
    "\n",
    "# print out the value of coefficients\n",
    "print('Coefficients: \\n', L.coef_)\n",
    "\n",
    "# MSE error\n",
    "print(\"Mean squared error: %.2f\"% mean_squared_error(y_test, y_pred))\n",
    "\n",
    "# plotting for visualization of data distribution according to the target\n",
    "plt.scatter(x_test, y_test,  color='black')\n",
    "plt.plot(x_test, y_pred, color='blue', linewidth=2)\n",
    "plt.show()"
   ]
  },
  {
   "cell_type": "code",
   "execution_count": 31,
   "metadata": {},
   "outputs": [
    {
     "name": "stdout",
     "output_type": "stream",
     "text": [
      "Coefficients: \n",
      " [-0.64959581]\n",
      "Mean squared error: 63.06\n"
     ]
    },
    {
     "data": {
      "image/png": "[encoded data removed]",
      "text/plain": [
       "<Figure size 432x288 with 1 Axes>"
      ]
     },
     "metadata": {
      "needs_background": "light"
     },
     "output_type": "display_data"
    }
   ],
   "source": [
    "# boston Ridge\n",
    "# X = boston.data\n",
    "X = boston.data[:, np.newaxis, 2]\n",
    "x_train, x_test, y_train, y_test = train_test_split(X, boston.target, test_size=0.1, random_state=4)\n",
    "RIDGE = linear_model.Ridge(0.1)\n",
    "RIDGE.fit(x_train, y_train)\n",
    "y_pred =RIDGE.predict(x_test)\n",
    "\n",
    "# print out the value of coefficients\n",
    "print('Coefficients: \\n', RIDGE.coef_)\n",
    "\n",
    "# MSE error\n",
    "print(\"Mean squared error: %.2f\"% mean_squared_error(y_test, y_pred))\n",
    "\n",
    "# plotting for visualization of data distribution according to the target\n",
    "plt.scatter(x_test, y_test,  color='black')\n",
    "plt.plot(x_test, y_pred, color='blue', linewidth=2)\n",
    "plt.show()"
   ]
  },
  {
   "cell_type": "code",
   "execution_count": 32,
   "metadata": {},
   "outputs": [
    {
     "name": "stdout",
     "output_type": "stream",
     "text": [
      "Coefficients: \n",
      " [-0.64959882]\n",
      "Mean squared error: 63.06\n"
     ]
    },
    {
     "data": {
      "image/png": "[encoded data removed]",
      "text/plain": [
       "<Figure size 432x288 with 1 Axes>"
      ]
     },
     "metadata": {
      "needs_background": "light"
     },
     "output_type": "display_data"
    }
   ],
   "source": [
    "# boston Ridge\n",
    "# X = boston.data\n",
    "X = boston.data[:, np.newaxis, 2]\n",
    "x_train, x_test, y_train, y_test = train_test_split(X, boston.target, test_size=0.1, random_state=4)\n",
    "RIDGE = linear_model.Ridge(0.001)\n",
    "RIDGE.fit(x_train, y_train)\n",
    "y_pred =RIDGE.predict(x_test)\n",
    "\n",
    "# print out the value of coefficients\n",
    "print('Coefficients: \\n', RIDGE.coef_)\n",
    "\n",
    "# MSE error\n",
    "print(\"Mean squared error: %.2f\"% mean_squared_error(y_test, y_pred))\n",
    "\n",
    "# plotting for visualization of data distribution according to the target\n",
    "plt.scatter(x_test, y_test,  color='black')\n",
    "plt.plot(x_test, y_pred, color='blue', linewidth=2)\n",
    "plt.show()"
   ]
  },
  {
   "cell_type": "code",
   "execution_count": null,
   "metadata": {},
   "outputs": [],
   "source": []
  }
 ],
 "metadata": {
  "kernelspec": {
   "display_name": "Python 3",
   "language": "python",
   "name": "python3"
  },
  "language_info": {
   "codemirror_mode": {
    "name": "ipython",
    "version": 3
   },
   "file_extension": ".py",
   "mimetype": "text/x-python",
   "name": "python",
   "nbconvert_exporter": "python",
   "pygments_lexer": "ipython3",
   "version": "3.7.1"
  }
 },
 "nbformat": 4,
 "nbformat_minor": 2
}
