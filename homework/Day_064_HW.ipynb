{
 "cells": [
  {
   "cell_type": "markdown",
   "metadata": {},
   "source": [
    "選擇迴歸資料集(右) - 交錯六群，在其他參數保持預設值的情況下，只允許調整隱藏層層數與神經元數量，且遵守下列限制\n",
    "隱藏層神經元總數最多 8 個 (即 : 可以單層 8 個，或兩層 5 個與 3 個)\n",
    "遞迴次數只允許跑到500次\n",
    "在上述限制下，挑戰看看測試誤差 (Test Loss) 最低能到多少? 請回答你的神經元參數與 Test Loss 數"
   ]
  },
  {
   "cell_type": "code",
   "execution_count": 1,
   "metadata": {},
   "outputs": [],
   "source": [
    "# default setting\n",
    "learning_rate = 0.3\n",
    "activation_function = 'tanh'\n",
    "Regularization = None\n",
    "Regularization_rate = 0\n",
    "Problem_type = \"Classification\"\n",
    "epoch = 500\n",
    "\n",
    "# experiment 1 : hidden 1 : 5 neuron , hidden 2 : 3 neurons\n",
    "Test_Loss = 0.014\n",
    "\n",
    "# experiment 2 : hidden 1 : 6 neuron , hidden 2 : 2 neurons\n",
    "Test_Loss = 0.013\n",
    "\n",
    "# experiment 3 : hidden 1 : 7 neuron , hidden 2 : 1 neurons\n",
    "Test_Loss = 0.016\n",
    "\n",
    "# experiment 4 : hidden 1 : 8 neuron \n",
    "Test_Loss = 0.012\n",
    "\n",
    "# experiment 5 : hidden 1 : 4 neuron , hidden 2 : 4 neurons\n",
    "Test_Loss = 0.015\n",
    "\n",
    "# experiment 6 : hidden 1 : 3 neuron , hidden 2 : 5 neurons\n",
    "Test_Loss = 0.015\n",
    "\n",
    "# experiment 7 : hidden 1 : 2 neuron , hidden 2 : 6 neurons\n",
    "Test_Loss = 0.027\n",
    "\n",
    "# experiment 8 : hidden 1 : 1 neuron , hidden 2 : 7 neurons\n",
    "Test_Loss = 0.035\n",
    "\n",
    "# experiment 9 : hidden 1 : 2 neuron , hidden 2 : 2 neurons ,hidden 3 : 2 neuron , hidden 4 : 2neurons\n",
    "Test_Loss = 0.026\n",
    "\n",
    "# experiment 10 : hidden 1 : 4 neuron , hidden 2 : 2 neurons ,hidden 3 : 2 neuron \n",
    "Test_Loss = 0.017\n",
    "\n",
    "# experiment 11 : hidden 1 : 5 neuron , hidden 2 : 2 neurons ,hidden 3 : 1 neuron \n",
    "Test_Loss = 0.015\n",
    "\n",
    "# experiment 12 : hidden 1 : 6 neuron , hidden 2 : 1 neurons ,hidden 3 : 1 neuron \n",
    "Test_Loss = 0.013\n",
    "\n",
    "# experiment 13 : hidden 1 : 2 neuron , hidden 2 : 2 neurons ,hidden 3 : 1 neuron, hidden 4 : 1 neuron, hidden 5 : 1 neuron, hidden 6 : 1 neuron \n",
    "Test_Loss = 0.035"
   ]
  },
  {
   "cell_type": "code",
   "execution_count": 2,
   "metadata": {},
   "outputs": [],
   "source": [
    "# The lowest Test Loss\n",
    "Lowest_Test_Loss = 0.12\n",
    "setting = \"One hidden layer with 8 units\""
   ]
  }
 ],
 "metadata": {
  "kernelspec": {
   "display_name": "Python 3",
   "language": "python",
   "name": "python3"
  },
  "language_info": {
   "codemirror_mode": {
    "name": "ipython",
    "version": 3
   },
   "file_extension": ".py",
   "mimetype": "text/x-python",
   "name": "python",
   "nbconvert_exporter": "python",
   "pygments_lexer": "ipython3",
   "version": "3.7.1"
  }
 },
 "nbformat": 4,
 "nbformat_minor": 2
}
