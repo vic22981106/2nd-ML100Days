{
 "cells": [
  {
   "cell_type": "raw",
   "metadata": {},
   "source": [
    "在精簡深度學習的方式上 : 卷積類神經 (CNN) 採用像素遠近，而遞歸類神經 (RNN) 採用著則是時間遠近\n",
    "那麼，既然有著類似的設計精神，兩者是否有可能互換應用呢?\n",
    "\n",
    "利用CNN解決時間序列的問題？\n",
    "可以。假設圖片也有時間的軸度，比如連續動作的影像，可以將這些影像全部concatenate成一個3D影像，並且利用Convolution3D(Keras or Pytorch都有已經寫好的函式可以呼叫)，來擷取不同時間影像中的資訊。\n",
    "\n",
    "利用RNN解決圖像問題？\n",
    "可以。假設影像是一個3D的斷層式影像，可以將不同深度的影像視為是不同時間序列的影像，並以RNN當作神經網路的架構。"
   ]
  },
  {
   "cell_type": "raw",
   "metadata": {},
   "source": []
  }
 ],
 "metadata": {
  "kernelspec": {
   "display_name": "Python 3",
   "language": "python",
   "name": "python3"
  },
  "language_info": {
   "codemirror_mode": {
    "name": "ipython",
    "version": 3
   },
   "file_extension": ".py",
   "mimetype": "text/x-python",
   "name": "python",
   "nbconvert_exporter": "python",
   "pygments_lexer": "ipython3",
   "version": "3.7.1"
  }
 },
 "nbformat": 4,
 "nbformat_minor": 2
}
