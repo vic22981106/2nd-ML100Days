{
 "cells": [
  {
   "cell_type": "markdown",
   "metadata": {},
   "source": [
    "Q1: 非監督學習是否有可能使用評價函數 (Metric) 來鑑別好壞呢?\n",
    "\n",
    "Ans: 我認為非監督式學習沒有辦法使用評價函數(Metric)來鑑別好壞。原因是在非監督式學習的task中沒有所謂的ground truth，所以假設今天要將資料分群，分完的結果是沒有辦法去衡量好壞的。"
   ]
  },
  {
   "cell_type": "code",
   "execution_count": null,
   "metadata": {},
   "outputs": [],
   "source": []
  }
 ],
 "metadata": {
  "kernelspec": {
   "display_name": "Python 3",
   "language": "python",
   "name": "python3"
  },
  "language_info": {
   "codemirror_mode": {
    "name": "ipython",
    "version": 3
   },
   "file_extension": ".py",
   "mimetype": "text/x-python",
   "name": "python",
   "nbconvert_exporter": "python",
   "pygments_lexer": "ipython3",
   "version": "3.7.1"
  }
 },
 "nbformat": 4,
 "nbformat_minor": 2
}
