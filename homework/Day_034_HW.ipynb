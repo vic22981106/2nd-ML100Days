{
 "cells": [
  {
   "cell_type": "code",
   "execution_count": 122,
   "metadata": {},
   "outputs": [],
   "source": [
    "import numpy as np\n",
    "import sklearn\n",
    "from sklearn.model_selection import train_test_split\n",
    "X = np.arange(1000).reshape(200, 5)\n",
    "y = np.zeros(200)\n",
    "y[:40] = 1"
   ]
  },
  {
   "cell_type": "code",
   "execution_count": 123,
   "metadata": {},
   "outputs": [],
   "source": [
    "# extract the label0 and label1 data\n",
    "idx0 = np.where(y==0)\n",
    "idx1 = np.where(y==1)\n",
    "\n",
    "# label0\n",
    "X0 = X[idx0[:len(idx0)]]\n",
    "y0 = y[idx0[:len(idx0)]]\n",
    "\n",
    "# label1\n",
    "X1 = X[idx1[:len(idx1)]]\n",
    "y1 = y[idx1[:len(idx1)]]"
   ]
  },
  {
   "cell_type": "code",
   "execution_count": 128,
   "metadata": {},
   "outputs": [],
   "source": [
    "X0_train, X0_test, y0_train, y0_test = train_test_split(X0,y0,test_size=10)\n",
    "X1_train, X1_test, y1_train, y1_test = train_test_split(X1,y1,test_size=10)"
   ]
  },
  {
   "cell_type": "code",
   "execution_count": 129,
   "metadata": {},
   "outputs": [],
   "source": [
    "# concatenate these two groups\n",
    "X_train = np.concatenate((X0_train ,X1_train))\n",
    "X_test = np.concatenate((X0_test, X1_test))\n",
    "\n",
    "y_train = np.concatenate((y0_train, y1_train))\n",
    "y_test = np.concatenate((y0_test, y1_test))"
   ]
  },
  {
   "cell_type": "code",
   "execution_count": 130,
   "metadata": {},
   "outputs": [
    {
     "data": {
      "text/plain": [
       "array([0., 0., 0., 0., 0., 0., 0., 0., 0., 0., 1., 1., 1., 1., 1., 1., 1.,\n",
       "       1., 1., 1.])"
      ]
     },
     "execution_count": 130,
     "metadata": {},
     "output_type": "execute_result"
    }
   ],
   "source": [
    "y_test"
   ]
  },
  {
   "cell_type": "code",
   "execution_count": null,
   "metadata": {},
   "outputs": [],
   "source": [
    "# it is ok to have this data without shuffle because it can be shuffle when training using shuffled index"
   ]
  },
  {
   "cell_type": "code",
   "execution_count": null,
   "metadata": {},
   "outputs": [],
   "source": []
  }
 ],
 "metadata": {
  "kernelspec": {
   "display_name": "Python 3",
   "language": "python",
   "name": "python3"
  },
  "language_info": {
   "codemirror_mode": {
    "name": "ipython",
    "version": 3
   },
   "file_extension": ".py",
   "mimetype": "text/x-python",
   "name": "python",
   "nbconvert_exporter": "python",
   "pygments_lexer": "ipython3",
   "version": "3.7.1"
  }
 },
 "nbformat": 4,
 "nbformat_minor": 2
}
