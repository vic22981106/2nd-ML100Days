{
 "cells": [
  {
   "cell_type": "markdown",
   "metadata": {},
   "source": [
    "1. 線性回歸模型能夠準確預測非線性關係的資料集嗎?\n",
    "Ans: 不行，linear regression只能用在比較簡單的資料分布，例如鑽石的重量(x)，與價格(y)之間的關係，可以利用linear regression來進行回歸的分析。或是底下這一個例子，若今天要區分紅點和藍點(FIgure A)，最簡單最直觀的作法就是在紅點和藍點之間的界線畫一條支線，若今天資料落在界限的左邊就是藍點，反之則是紅點。然而當今天資料與label之間的關係並不是呈現線性的時候，就很難去預測資料的label，例如在Figure B中很難去畫一條線去區分紅點和藍點，而這個時候就必須使用非線性的model來預測這樣。"
   ]
  },
  {
   "cell_type": "code",
   "execution_count": 1,
   "metadata": {},
   "outputs": [],
   "source": [
    "import numpy as np\n",
    "def generate_linear(n=100):\n",
    "    import numpy as np\n",
    "    pts = np.random.uniform(0,1,(n,2))\n",
    "    inputs = []\n",
    "    labels = []\n",
    "    for pt in pts:\n",
    "        inputs.append([pt[0], pt[1]])\n",
    "        distance = (pt[0] - pt[1])/1.414\n",
    "        if pt[0] > pt[1]:\n",
    "            labels.append(0)\n",
    "        else:\n",
    "            labels.append(1)\n",
    "\n",
    "    return np.array(inputs), np.array(labels).reshape(n,1)\n",
    "\n",
    "x_train,y_train=generate_linear(n=100)\n",
    "\n",
    "def generate_XOR_easy():\n",
    "    inputs = []\n",
    "    labels = []\n",
    "\n",
    "    for i in range(11):\n",
    "        inputs.append([0.1*i,0.1*i])\n",
    "        labels.append(0)\n",
    "\n",
    "        if 0.1*i == 0.5:\n",
    "            continue\n",
    "\n",
    "        inputs.append([0.1*i, 1-0.1*i])\n",
    "        labels.append(1)\n",
    "\n",
    "    return np.array(inputs), np.array(labels).reshape(21,1)\n",
    "\n",
    "x_train_nonlinear, y_train_nonlinear = generate_XOR_easy()"
   ]
  },
  {
   "cell_type": "code",
   "execution_count": 3,
   "metadata": {},
   "outputs": [
    {
     "data": {
      "image/png": "[encoded data removed]",
      "text/plain": [
       "<Figure size 504x504 with 1 Axes>"
      ]
     },
     "metadata": {
      "needs_background": "light"
     },
     "output_type": "display_data"
    },
    {
     "data": {
      "image/png": "[encoded data removed]",
      "text/plain": [
       "<Figure size 504x504 with 1 Axes>"
      ]
     },
     "metadata": {
      "needs_background": "light"
     },
     "output_type": "display_data"
    }
   ],
   "source": [
    "import matplotlib.pyplot as plt\n",
    "def show_result(x_train, y_train):\n",
    "    fig = plt.figure(figsize=(7,7))\n",
    "    plt.title(\"Figure A\", fontsize = 18)\n",
    "    for i in range(x_train.shape[0]):\n",
    "        if y_train[i] == 0:\n",
    "            plt.plot(x_train[i][0], x_train[i][1], \"ro\")\n",
    "        else:\n",
    "            plt.plot(x_train[i][0], x_train[i][1], \"bo\")\n",
    "\n",
    "    plt.show()\n",
    "show_result(x_train, y_train)\n",
    "\n",
    "def show_result(x_train, y_train):\n",
    "    fig = plt.figure(figsize=(7,7))\n",
    "    plt.title(\"Figure B\", fontsize = 18)\n",
    "    for i in range(x_train.shape[0]):\n",
    "        if y_train[i] == 0:\n",
    "            plt.plot(x_train[i][0], x_train[i][1], \"ro\")\n",
    "        else:\n",
    "            plt.plot(x_train[i][0], x_train[i][1], \"bo\")\n",
    "\n",
    "    plt.show()\n",
    "show_result(x_train_nonlinear, y_train_nonlinear)"
   ]
  },
  {
   "cell_type": "markdown",
   "metadata": {},
   "source": [
    "2. 回歸模型是否對資料分布有基本假設?\n",
    "\n",
    "在linear regression的model，沒有對資料分布進行假設。\n",
    "\n",
    "然而在Logistic regression model中，資料的分佈是假設成柏努利分布的。就像是丟錢幣的實驗，結果只會有正面以及反面。"
   ]
  }
 ],
 "metadata": {
  "kernelspec": {
   "display_name": "Python 3",
   "language": "python",
   "name": "python3"
  },
  "language_info": {
   "codemirror_mode": {
    "name": "ipython",
    "version": 3
   },
   "file_extension": ".py",
   "mimetype": "text/x-python",
   "name": "python",
   "nbconvert_exporter": "python",
   "pygments_lexer": "ipython3",
   "version": "3.7.1"
  }
 },
 "nbformat": 4,
 "nbformat_minor": 2
}
