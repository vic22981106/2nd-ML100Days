{
 "cells": [
  {
   "cell_type": "markdown",
   "metadata": {},
   "source": [
    "Q: 請找出一個你認為機器學習可以發光發熱的領域並闡述原因?\n",
    "\n",
    "Ans:機器學習在影像辨識這塊被應用的很廣泛，所以我認為將深度學習或者是傳統的maching learning的演算法應用在辨識醫學影像可以得到很好的成效。在過去，疾病的診斷往往需要透過專業的醫師團隊，觀察病人種種的醫學醫學影像，例如利用MRI scan觀察腦部, 利用細胞的組織切片來判斷病人是否患有癌症，甚至是從x-ray影像，來判斷是否有發生骨折等等。但是這些照片拍完，拿到醫生手上，再等到醫生確定患者的病因往往已經超過幾十分鐘的等待，而且最重要的是，不同醫師所下的診斷可能因為從醫經驗的差別而有所差異，誤診的可能性也因人而異，所以如果可以利用機器學習的方法，訓練一個model來準確的判斷病因，將會解決很多問題。既然提到要利用機器學習的方式來做object detection的這個議題，就要提到為什麼機器學習在影像辨識上會有這麼大的成功。首先要提到的就是被廣泛的應用在影像辨識的Convolution Neural Network (CNN) 架構。他厲害的地方在於透過convolution layer，可以將影像中我們人類肉眼看不到的latent representation (or latent code) 給找出來，也就是說在feature extraction這方面來說CNN做得非常好。而這些latent representation是醫生看不到的，若機器可以學到這些決定病灶影像的latent code，就可以在object detection 的這一個task上有良好的表現，當然不是說要完全取代醫生，而是最為一個輔助的角色，來提升醫生診斷的準確率。所以這也就是為什麼在這件事情上，利用機器來當作輔助是有益的。\n",
    "\n",
    "然而，要用supervised learning的方式讓機器學習的話，首先就是要有正確的training data，也就是由專家鑑定過後，有正確標記的醫學影像。原因是這樣的task並不像一般的照片，並不是人人都看得懂醫學影像的，所以這樣的議題非常的看重domain knowledge，也就是醫學相關經驗要非常的足夠，才有辦法準確的標記醫學影像。所以不難想像這樣的training data是得來不意，這也就是為什麼data的數量在醫學影像辨識來說是一個需要被考量的因素之一。\n",
    "\n",
    "總而言之，若不考慮data取得的容易程度，以及是否有正確的label，利用機器學習來進行醫學影像辨識會是一個值得發展的領域。"
   ]
  },
  {
   "cell_type": "code",
   "execution_count": null,
   "metadata": {},
   "outputs": [],
   "source": []
  }
 ],
 "metadata": {
  "kernelspec": {
   "display_name": "Python 3",
   "language": "python",
   "name": "python3"
  },
  "language_info": {
   "codemirror_mode": {
    "name": "ipython",
    "version": 3
   },
   "file_extension": ".py",
   "mimetype": "text/x-python",
   "name": "python",
   "nbconvert_exporter": "python",
   "pygments_lexer": "ipython3",
   "version": "3.7.1"
  }
 },
 "nbformat": 4,
 "nbformat_minor": 2
}
