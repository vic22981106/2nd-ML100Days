{
 "cells": [
  {
   "cell_type": "code",
   "execution_count": 1,
   "metadata": {},
   "outputs": [
    {
     "name": "stdout",
     "output_type": "stream",
     "text": [
      "x shape :  (4, 3)\n",
      "y shape :  (4, 1)\n"
     ]
    }
   ],
   "source": [
    "import numpy as np\n",
    " \n",
    "def nonlin(x,deriv=False):\n",
    "    if(deriv==True):\n",
    "        return x*(1-x)\n",
    "    return 1/(1+np.exp(-x))\n",
    "\n",
    "x = np.array([  [0,0,1],\n",
    "                     [0,1,1],\n",
    "                     [1,0,1],\n",
    "                     [1,1,1] ])\n",
    "print(\"x shape : \",x.shape)\n",
    "        \n",
    "y = np.array([[0,0,1,1]]).T\n",
    "print(\"y shape : \",y.shape)"
   ]
  },
  {
   "cell_type": "code",
   "execution_count": 2,
   "metadata": {},
   "outputs": [
    {
     "name": "stdout",
     "output_type": "stream",
     "text": [
      "Epoch:  50  Loss:  0.11073624839094288 Accuracy:  88.9263751609057\n",
      "Epoch:  100  Loss:  0.04582233124709296 Accuracy:  95.4177668752907\n",
      "Epoch:  150  Loss:  0.013484958253695726 Accuracy:  98.65150417463042\n",
      "Epoch:  200  Loss:  0.006360717111887715 Accuracy:  99.36392828881124\n",
      "Epoch:  250  Loss:  0.0038874161181521242 Accuracy:  99.61125838818478\n",
      "Epoch:  300  Loss:  0.0027187493170899753 Accuracy:  99.728125068291\n",
      "Epoch:  350  Loss:  0.002058878980372342 Accuracy:  99.79411210196277\n",
      "Epoch:  400  Loss:  0.0016419530556717155 Accuracy:  99.83580469443282\n",
      "Epoch:  450  Loss:  0.0013575445196884134 Accuracy:  99.86424554803116\n",
      "Epoch:  500  Loss:  0.001152499938694703 Accuracy:  99.88475000613053\n",
      "Epoch:  550  Loss:  0.0009983809625567198 Accuracy:  99.90016190374433\n",
      "Epoch:  600  Loss:  0.0008787156158665504 Accuracy:  99.91212843841335\n",
      "Epoch:  650  Loss:  0.000783355760686811 Accuracy:  99.92166442393132\n",
      "Epoch:  700  Loss:  0.0007057331784060357 Accuracy:  99.92942668215939\n",
      "Epoch:  750  Loss:  0.0006414218349786777 Accuracy:  99.93585781650212\n",
      "Epoch:  800  Loss:  0.0005873374652697257 Accuracy:  99.94126625347303\n",
      "Epoch:  850  Loss:  0.0005412690085086222 Accuracy:  99.94587309914914\n",
      "Epoch:  900  Loss:  0.0005015924546438728 Accuracy:  99.94984075453561\n",
      "Epoch:  950  Loss:  0.0004670896601754825 Accuracy:  99.95329103398245\n",
      "Epoch:  1000  Loss:  0.00043682999042789954 Accuracy:  99.95631700095721\n",
      "Output After Training:\n",
      "[[0.03127121]\n",
      " [0.02537021]\n",
      " [0.97107737]\n",
      " [0.96780395]]\n"
     ]
    }
   ],
   "source": [
    "# seed random numbers to make calculation\n",
    "# deterministic (just a good practice)\n",
    "np.random.seed(1)\n",
    "#亂數設定產生種子得到的權重初始化集仍是隨機分佈的，\n",
    "#但每次開始訓練時，得到的權重初始集分佈都是完全一致的。\n",
    " \n",
    "# initialize weights randomly with mean 0\n",
    "w1 = 2*np.random.random((3,3)) - 1\n",
    "w2 = 2*np.random.random((3,1)) - 1\n",
    "# print(\"w1 shape: \",w1.shape)\n",
    "# print(\"w2 shape: \",w2.shape)\n",
    "\n",
    "iter = 0\n",
    "loss_history =[]\n",
    "epoch = 1000\n",
    "lr = 0.5\n",
    "\n",
    "\n",
    "for iter in range(epoch):\n",
    "    \n",
    "    # forward propagation\n",
    "    h0 = x\n",
    "    h1 = nonlin(np.dot(h0,w1))\n",
    "    h2 = nonlin(np.dot(h1,w2))\n",
    "    \n",
    "    #print(\"h1 shape: \",h1.shape)\n",
    "    #print(\"h2 shape:\",h2.shape)\n",
    "    \n",
    "    # calculate the gradient of w2 \n",
    "    h2_error = ((y - h2)**2)/2  # MSE as my loss function\n",
    "    h2_delta = (-1)*(y - h2) * nonlin( h2, True)\n",
    "    \n",
    "    #print(\"h2_error shape: \", h2_error.shape)\n",
    "    #print(\"h2_delta shape: \", h2_delta.shape)\n",
    "    # update weights\n",
    "    w2 -= lr * ( np.dot(h1.T,h2_delta))\n",
    "    \n",
    "    \n",
    "    # calculate the gradient of w1\n",
    "    h1_delta = np.dot(h2_delta,w2.T)*nonlin(h1,True)\n",
    "    #print(\"h1_delta shape: \",h1_delta.shape)\n",
    "    # update weights\n",
    "    w1  -= lr * np.dot(h0.T,h1_delta)\n",
    "    \n",
    "    # store the loss value every epoch\n",
    "    error = np.mean(h2_error)\n",
    "    loss_history.append(error)\n",
    "    accuracy = (1-error)*100\n",
    "    \n",
    "    if (iter+1) % 50 == 0:\n",
    "        print(\"Epoch: \", iter+1,\" Loss: \", error,\"Accuracy: \", accuracy)\n",
    "    \n",
    "print(\"Output After Training:\")\n",
    "print(h2)"
   ]
  },
  {
   "cell_type": "code",
   "execution_count": 3,
   "metadata": {},
   "outputs": [
    {
     "data": {
      "text/plain": [
       "Text(0, 0.5, 'Loss')"
      ]
     },
     "execution_count": 3,
     "metadata": {},
     "output_type": "execute_result"
    },
    {
     "data": {
      "image/png": "[encoded data removed]",
      "text/plain": [
       "<Figure size 432x288 with 1 Axes>"
      ]
     },
     "metadata": {
      "needs_background": "light"
     },
     "output_type": "display_data"
    }
   ],
   "source": [
    "import matplotlib.pyplot as plt\n",
    "%matplotlib inline \n",
    "\n",
    "epoch = np.arange(1,1001,1)\n",
    "plt.plot(epoch, loss_history)\n",
    "plt.title(\"Training after 10000 epoch\")\n",
    "plt.xlabel(\"Epoch\",fontsize = 18)\n",
    "plt.ylabel(\"Loss\",fontsize=18)"
   ]
  },
  {
   "cell_type": "code",
   "execution_count": null,
   "metadata": {},
   "outputs": [],
   "source": []
  }
 ],
 "metadata": {
  "kernelspec": {
   "display_name": "Python 3",
   "language": "python",
   "name": "python3"
  },
  "language_info": {
   "codemirror_mode": {
    "name": "ipython",
    "version": 3
   },
   "file_extension": ".py",
   "mimetype": "text/x-python",
   "name": "python",
   "nbconvert_exporter": "python",
   "pygments_lexer": "ipython3",
   "version": "3.7.1"
  }
 },
 "nbformat": 4,
 "nbformat_minor": 2
}
