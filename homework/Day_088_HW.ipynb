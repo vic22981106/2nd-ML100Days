{
  "nbformat": 4,
  "nbformat_minor": 0,
  "metadata": {
    "colab": {
      "name": "Day_088_HW.ipynb",
      "version": "0.3.2",
      "provenance": []
    },
    "kernelspec": {
      "name": "python3",
      "display_name": "Python 3"
    },
    "accelerator": "GPU"
  },
  "cells": [
    {
      "cell_type": "code",
      "metadata": {
        "id": "n5GOIZoIInNy",
        "colab_type": "code",
        "outputId": "12c7cad2-3a75-4caf-a5f6-f2baa150da3e",
        "colab": {
          "base_uri": "https://localhost:8080/",
          "height": 34
        }
      },
      "source": [
        "# using Google CoLab as my coding environment \n",
        "# checking the GPU \n",
        "import tensorflow as tf\n",
        "device_name = tf.test.gpu_device_name()\n",
        "if device_name != '/device:GPU:0':\n",
        "  raise SystemError('GPU device not found')\n",
        "print('Found GPU at: {}'.format(device_name))"
      ],
      "execution_count": 1,
      "outputs": [
        {
          "output_type": "stream",
          "text": [
            "Found GPU at: /device:GPU:0\n"
          ],
          "name": "stdout"
        }
      ]
    },
    {
      "cell_type": "code",
      "metadata": {
        "id": "hybU_yHNItTc",
        "colab_type": "code",
        "outputId": "ca3bfd90-5a01-4f14-9483-036c29a730af",
        "colab": {
          "base_uri": "https://localhost:8080/",
          "height": 141
        }
      },
      "source": [
        "import os\n",
        "import keras\n",
        "\n",
        "(x_train, y_train), (x_test, y_test) = keras.datasets.cifar10.load_data()\n",
        "\n",
        "# data normalization\n",
        "def preproc_x(x, flatten=True):\n",
        "    x = x / 255.\n",
        "    if flatten:\n",
        "        x = x.reshape((len(x), -1))\n",
        "    return x\n",
        "\n",
        "def preproc_y(y, num_classes=10):\n",
        "    if y.shape[-1] == 1:\n",
        "        y = keras.utils.to_categorical(y, num_classes)\n",
        "    return y\n",
        "\n",
        "\n",
        "# Preproc the inputs\n",
        "x_train = preproc_x(x_train)\n",
        "x_test = preproc_x(x_test)\n",
        "\n",
        "# Preprc the outputs\n",
        "y_train = preproc_y(y_train)\n",
        "y_test = preproc_y(y_test)\n",
        "\n",
        "print(\"The shape of x_train\", x_train.shape)\n",
        "print(\"The shape of y_train\", y_train.shape)\n",
        "print(\"The shape of x_test\", x_test.shape)\n",
        "print(\"The shape of y_test\", y_test.shape)"
      ],
      "execution_count": 2,
      "outputs": [
        {
          "output_type": "stream",
          "text": [
            "Using TensorFlow backend.\n"
          ],
          "name": "stderr"
        },
        {
          "output_type": "stream",
          "text": [
            "Downloading data from https://www.cs.toronto.edu/~kriz/cifar-10-python.tar.gz\n",
            "170500096/170498071 [==============================] - 11s 0us/step\n",
            "The shape of x_train (50000, 3072)\n",
            "The shape of y_train (50000, 10)\n",
            "The shape of x_test (10000, 3072)\n",
            "The shape of y_test (10000, 10)\n"
          ],
          "name": "stdout"
        }
      ]
    },
    {
      "cell_type": "code",
      "metadata": {
        "id": "DFbwrsitI3PG",
        "colab_type": "code",
        "colab": {}
      },
      "source": [
        "# hyperparameters\n",
        "LEARNING_RATE = 1e-3\n",
        "EPOCHS = 100\n",
        "BATCH_SIZE = 1024\n",
        "DROPOUT = 0.1\n",
        "MOMENTUM = 0.95"
      ],
      "execution_count": 0,
      "outputs": []
    },
    {
      "cell_type": "code",
      "metadata": {
        "id": "0iRATxX1I65g",
        "colab_type": "code",
        "colab": {}
      },
      "source": [
        "from keras.models import Sequential\n",
        "from keras.layers import Dense, Activation, Flatten, MaxPooling2D, MaxPool2D, BatchNormalization,AveragePooling2D, Dropout\n",
        "\n",
        "# construction a model with dropout layer\n",
        "def build_mlp(input_shape, output_units=10,DROPOUT=0.1):\n",
        "    input_layer = keras.layers.Input(input_shape)\n",
        "    model = Sequential()\n",
        "    \n",
        "    # layer 1\n",
        "    model.add(Dense(512))\n",
        "    model.add(BatchNormalization())\n",
        "    model.add(Activation('relu'))\n",
        "    model.add(Dropout(DROPOUT))\n",
        "    \n",
        "    # layer 2\n",
        "    model.add(Dense(256))\n",
        "    model.add(BatchNormalization())\n",
        "    model.add(Activation('relu'))\n",
        "    model.add(Dropout(DROPOUT))\n",
        "    \n",
        "    # layer 3\n",
        "    model.add(Dense(128))\n",
        "    model.add(BatchNormalization())\n",
        "    model.add(Activation('relu'))\n",
        "    model.add(Dropout(DROPOUT))\n",
        "    \n",
        "    # layer 4\n",
        "    model.add(Dense(10))\n",
        "    model.add(Activation('softmax'))\n",
        "\n",
        "    return model"
      ],
      "execution_count": 0,
      "outputs": []
    },
    {
      "cell_type": "code",
      "metadata": {
        "id": "hNzjbOFcJizG",
        "colab_type": "code",
        "colab": {}
      },
      "source": [
        "# import Callbacks\n",
        "from keras.callbacks import Callback\n",
        "\n",
        "# Record_fp_tp\n",
        "class Record_tp_tn(Callback):\n",
        "    def on_train_begin(self, epoch, logs = {}):\n",
        "        logs = logs or {}\n",
        "        record_items = [\"val_auc\", \"val_f1sc\", \"val_fp\", \"val_fn\", \"val_tp\", \"val_tn\"]\n",
        "        for i in record_items:\n",
        "            if i not in self.params['metrics']:\n",
        "                self.params['metrics'].append(i)\n",
        "    \n",
        "    def on_epoch_end(self, epoch, logs = {}, thres=0.5):\n",
        "        logs = logs or {}\n",
        "        y_true = self.validation_data[1].argmax(axis = 1)\n",
        "        y_pred = self.model.predict(self.validation_data[0])\n",
        "        y_pred = (y_pred[:, 1] >= thres) * 1\n",
        "        \n",
        "        tp = 0\n",
        "        tn = 0\n",
        "        fp = 0\n",
        "        fn = 0\n",
        "        \n",
        "        for i in range(len(y_pred)):\n",
        "          if y_true[i] == 1:\n",
        "            if y_pred[i] == 1:\n",
        "              tp += 1\n",
        "            else:\n",
        "              tn +=1\n",
        "          else:\n",
        "            if y_pred[i] == 1:\n",
        "              fp += 1\n",
        "            else:\n",
        "              fn += 1\n",
        "            \n",
        "        \n",
        "        logs[\"val_tp\"] = tp\n",
        "        logs[\"val_tn\"] = tn\n",
        "        \n",
        "rec_tptn = Record_tp_tn()"
      ],
      "execution_count": 0,
      "outputs": []
    },
    {
      "cell_type": "code",
      "metadata": {
        "id": "AVumeuVSOgD3",
        "colab_type": "code",
        "colab": {
          "base_uri": "https://localhost:8080/",
          "height": 1000
        },
        "outputId": "b5942b8b-6c7f-4b12-d893-b126d197e41a"
      },
      "source": [
        "model = build_mlp(input_shape=x_train.shape[1:])\n",
        "# model.summary()\n",
        "optimizer = keras.optimizers.SGD(lr=LEARNING_RATE, nesterov=True, momentum=MOMENTUM)\n",
        "model.compile(loss=\"categorical_crossentropy\", metrics=[\"accuracy\"], optimizer=optimizer)\n",
        "\n",
        "model.fit(x_train, y_train, \n",
        "          epochs=EPOCHS, \n",
        "          batch_size=BATCH_SIZE, \n",
        "          validation_data=(x_test, y_test), \n",
        "          shuffle=True,\n",
        "          callbacks=[rec_tptn]\n",
        "         )\n",
        "\n",
        "# Collect results\n",
        "train_loss = model.history.history[\"loss\"]\n",
        "valid_loss = model.history.history[\"val_loss\"]\n",
        "train_acc = model.history.history[\"acc\"]\n",
        "valid_acc = model.history.history[\"val_acc\"]\n",
        "\n",
        "# 在訓練後，將 f1sc 紀錄調出\n",
        "valid_tp = model.history.history['val_tp']\n",
        "valid_tn = model.history.history['val_tn']"
      ],
      "execution_count": 8,
      "outputs": [
        {
          "output_type": "stream",
          "text": [
            "Train on 50000 samples, validate on 10000 samples\n",
            "Epoch 1/100\n",
            "50000/50000 [==============================] - 3s 58us/step - loss: 2.3123 - acc: 0.2014 - val_loss: 2.0932 - val_acc: 0.2731\n",
            "Epoch 2/100\n",
            "50000/50000 [==============================] - 2s 37us/step - loss: 1.9197 - acc: 0.3244 - val_loss: 1.8251 - val_acc: 0.3543\n",
            "Epoch 3/100\n",
            "50000/50000 [==============================] - 2s 38us/step - loss: 1.8037 - acc: 0.3611 - val_loss: 1.7541 - val_acc: 0.3798\n",
            "Epoch 4/100\n",
            "50000/50000 [==============================] - 2s 37us/step - loss: 1.7384 - acc: 0.3846 - val_loss: 1.6921 - val_acc: 0.4085\n",
            "Epoch 5/100\n",
            "50000/50000 [==============================] - 2s 37us/step - loss: 1.6934 - acc: 0.4024 - val_loss: 1.6560 - val_acc: 0.4245\n",
            "Epoch 6/100\n",
            "50000/50000 [==============================] - 2s 37us/step - loss: 1.6535 - acc: 0.4172 - val_loss: 1.6175 - val_acc: 0.4334\n",
            "Epoch 7/100\n",
            "50000/50000 [==============================] - 2s 38us/step - loss: 1.6272 - acc: 0.4235 - val_loss: 1.6024 - val_acc: 0.4402\n",
            "Epoch 8/100\n",
            "50000/50000 [==============================] - 2s 38us/step - loss: 1.5935 - acc: 0.4385 - val_loss: 1.5693 - val_acc: 0.4483\n",
            "Epoch 9/100\n",
            "50000/50000 [==============================] - 2s 37us/step - loss: 1.5690 - acc: 0.4457 - val_loss: 1.5499 - val_acc: 0.4539\n",
            "Epoch 10/100\n",
            "50000/50000 [==============================] - 2s 38us/step - loss: 1.5491 - acc: 0.4511 - val_loss: 1.5317 - val_acc: 0.4601\n",
            "Epoch 11/100\n",
            "50000/50000 [==============================] - 2s 38us/step - loss: 1.5299 - acc: 0.4587 - val_loss: 1.5172 - val_acc: 0.4685\n",
            "Epoch 12/100\n",
            "50000/50000 [==============================] - 2s 36us/step - loss: 1.5078 - acc: 0.4673 - val_loss: 1.4985 - val_acc: 0.4735\n",
            "Epoch 13/100\n",
            "50000/50000 [==============================] - 2s 37us/step - loss: 1.4944 - acc: 0.4726 - val_loss: 1.4901 - val_acc: 0.4735\n",
            "Epoch 14/100\n",
            "50000/50000 [==============================] - 2s 38us/step - loss: 1.4725 - acc: 0.4792 - val_loss: 1.4694 - val_acc: 0.4750\n",
            "Epoch 15/100\n",
            "50000/50000 [==============================] - 2s 37us/step - loss: 1.4568 - acc: 0.4837 - val_loss: 1.4617 - val_acc: 0.4833\n",
            "Epoch 16/100\n",
            "50000/50000 [==============================] - 2s 38us/step - loss: 1.4398 - acc: 0.4886 - val_loss: 1.4502 - val_acc: 0.4879\n",
            "Epoch 17/100\n",
            "50000/50000 [==============================] - 2s 37us/step - loss: 1.4272 - acc: 0.4969 - val_loss: 1.4378 - val_acc: 0.4889\n",
            "Epoch 18/100\n",
            "50000/50000 [==============================] - 2s 38us/step - loss: 1.4162 - acc: 0.4985 - val_loss: 1.4298 - val_acc: 0.4893\n",
            "Epoch 19/100\n",
            "50000/50000 [==============================] - 2s 37us/step - loss: 1.3988 - acc: 0.5083 - val_loss: 1.4235 - val_acc: 0.4942\n",
            "Epoch 20/100\n",
            "50000/50000 [==============================] - 2s 38us/step - loss: 1.3872 - acc: 0.5102 - val_loss: 1.4130 - val_acc: 0.4951\n",
            "Epoch 21/100\n",
            "50000/50000 [==============================] - 2s 38us/step - loss: 1.3762 - acc: 0.5131 - val_loss: 1.4059 - val_acc: 0.4975\n",
            "Epoch 22/100\n",
            "50000/50000 [==============================] - 2s 37us/step - loss: 1.3671 - acc: 0.5184 - val_loss: 1.3976 - val_acc: 0.5039\n",
            "Epoch 23/100\n",
            "50000/50000 [==============================] - 2s 38us/step - loss: 1.3524 - acc: 0.5237 - val_loss: 1.3945 - val_acc: 0.5027\n",
            "Epoch 24/100\n",
            "50000/50000 [==============================] - 2s 37us/step - loss: 1.3437 - acc: 0.5253 - val_loss: 1.3902 - val_acc: 0.5043\n",
            "Epoch 25/100\n",
            "50000/50000 [==============================] - 2s 38us/step - loss: 1.3346 - acc: 0.5265 - val_loss: 1.3831 - val_acc: 0.5005\n",
            "Epoch 26/100\n",
            "50000/50000 [==============================] - 2s 37us/step - loss: 1.3217 - acc: 0.5345 - val_loss: 1.3783 - val_acc: 0.5082\n",
            "Epoch 27/100\n",
            "50000/50000 [==============================] - 2s 38us/step - loss: 1.3102 - acc: 0.5384 - val_loss: 1.3720 - val_acc: 0.5063\n",
            "Epoch 28/100\n",
            "50000/50000 [==============================] - 2s 38us/step - loss: 1.2997 - acc: 0.5400 - val_loss: 1.3654 - val_acc: 0.5095\n",
            "Epoch 29/100\n",
            "50000/50000 [==============================] - 2s 38us/step - loss: 1.2911 - acc: 0.5430 - val_loss: 1.3650 - val_acc: 0.5146\n",
            "Epoch 30/100\n",
            "50000/50000 [==============================] - 2s 38us/step - loss: 1.2812 - acc: 0.5480 - val_loss: 1.3545 - val_acc: 0.5138\n",
            "Epoch 31/100\n",
            "50000/50000 [==============================] - 2s 38us/step - loss: 1.2720 - acc: 0.5525 - val_loss: 1.3532 - val_acc: 0.5145\n",
            "Epoch 32/100\n",
            "50000/50000 [==============================] - 2s 38us/step - loss: 1.2637 - acc: 0.5527 - val_loss: 1.3481 - val_acc: 0.5175\n",
            "Epoch 33/100\n",
            "50000/50000 [==============================] - 2s 38us/step - loss: 1.2527 - acc: 0.5561 - val_loss: 1.3480 - val_acc: 0.5143\n",
            "Epoch 34/100\n",
            "50000/50000 [==============================] - 2s 37us/step - loss: 1.2420 - acc: 0.5615 - val_loss: 1.3453 - val_acc: 0.5185\n",
            "Epoch 35/100\n",
            "50000/50000 [==============================] - 2s 38us/step - loss: 1.2298 - acc: 0.5636 - val_loss: 1.3440 - val_acc: 0.5156\n",
            "Epoch 36/100\n",
            "50000/50000 [==============================] - 2s 37us/step - loss: 1.2238 - acc: 0.5677 - val_loss: 1.3363 - val_acc: 0.5184\n",
            "Epoch 37/100\n",
            "50000/50000 [==============================] - 2s 37us/step - loss: 1.2165 - acc: 0.5718 - val_loss: 1.3485 - val_acc: 0.5220\n",
            "Epoch 38/100\n",
            "50000/50000 [==============================] - 2s 38us/step - loss: 1.2075 - acc: 0.5723 - val_loss: 1.3462 - val_acc: 0.5100\n",
            "Epoch 39/100\n",
            "50000/50000 [==============================] - 2s 37us/step - loss: 1.1958 - acc: 0.5775 - val_loss: 1.3360 - val_acc: 0.5224\n",
            "Epoch 40/100\n",
            "50000/50000 [==============================] - 2s 37us/step - loss: 1.1870 - acc: 0.5803 - val_loss: 1.3410 - val_acc: 0.5229\n",
            "Epoch 41/100\n",
            "50000/50000 [==============================] - 2s 38us/step - loss: 1.1792 - acc: 0.5847 - val_loss: 1.3417 - val_acc: 0.5214\n",
            "Epoch 42/100\n",
            "50000/50000 [==============================] - 2s 39us/step - loss: 1.1732 - acc: 0.5837 - val_loss: 1.3369 - val_acc: 0.5185\n",
            "Epoch 43/100\n",
            "50000/50000 [==============================] - 2s 37us/step - loss: 1.1654 - acc: 0.5865 - val_loss: 1.3380 - val_acc: 0.5194\n",
            "Epoch 44/100\n",
            "50000/50000 [==============================] - 2s 38us/step - loss: 1.1563 - acc: 0.5910 - val_loss: 1.3230 - val_acc: 0.5239\n",
            "Epoch 45/100\n",
            "50000/50000 [==============================] - 2s 38us/step - loss: 1.1517 - acc: 0.5937 - val_loss: 1.3172 - val_acc: 0.5275\n",
            "Epoch 46/100\n",
            "50000/50000 [==============================] - 2s 38us/step - loss: 1.1458 - acc: 0.5957 - val_loss: 1.3173 - val_acc: 0.5253\n",
            "Epoch 47/100\n",
            "50000/50000 [==============================] - 2s 37us/step - loss: 1.1321 - acc: 0.6010 - val_loss: 1.3189 - val_acc: 0.5246\n",
            "Epoch 48/100\n",
            "50000/50000 [==============================] - 2s 38us/step - loss: 1.1254 - acc: 0.6023 - val_loss: 1.3171 - val_acc: 0.5296\n",
            "Epoch 49/100\n",
            "50000/50000 [==============================] - 2s 39us/step - loss: 1.1187 - acc: 0.6069 - val_loss: 1.3152 - val_acc: 0.5308\n",
            "Epoch 50/100\n",
            "50000/50000 [==============================] - 2s 37us/step - loss: 1.1089 - acc: 0.6079 - val_loss: 1.3146 - val_acc: 0.5284\n",
            "Epoch 51/100\n",
            "50000/50000 [==============================] - 2s 37us/step - loss: 1.1001 - acc: 0.6106 - val_loss: 1.3231 - val_acc: 0.5279\n",
            "Epoch 52/100\n",
            "50000/50000 [==============================] - 2s 38us/step - loss: 1.0952 - acc: 0.6126 - val_loss: 1.3256 - val_acc: 0.5237\n",
            "Epoch 53/100\n",
            "50000/50000 [==============================] - 2s 38us/step - loss: 1.0825 - acc: 0.6180 - val_loss: 1.3238 - val_acc: 0.5248\n",
            "Epoch 54/100\n",
            "50000/50000 [==============================] - 2s 37us/step - loss: 1.0772 - acc: 0.6212 - val_loss: 1.3228 - val_acc: 0.5290\n",
            "Epoch 55/100\n",
            "50000/50000 [==============================] - 2s 37us/step - loss: 1.0727 - acc: 0.6195 - val_loss: 1.3187 - val_acc: 0.5271\n",
            "Epoch 56/100\n",
            "50000/50000 [==============================] - 2s 38us/step - loss: 1.0626 - acc: 0.6236 - val_loss: 1.3122 - val_acc: 0.5310\n",
            "Epoch 57/100\n",
            "50000/50000 [==============================] - 2s 36us/step - loss: 1.0574 - acc: 0.6270 - val_loss: 1.3150 - val_acc: 0.5275\n",
            "Epoch 58/100\n",
            "50000/50000 [==============================] - 2s 38us/step - loss: 1.0466 - acc: 0.6324 - val_loss: 1.3218 - val_acc: 0.5318\n",
            "Epoch 59/100\n",
            "50000/50000 [==============================] - 2s 38us/step - loss: 1.0412 - acc: 0.6327 - val_loss: 1.3132 - val_acc: 0.5329\n",
            "Epoch 60/100\n",
            "50000/50000 [==============================] - 2s 37us/step - loss: 1.0346 - acc: 0.6346 - val_loss: 1.3117 - val_acc: 0.5338\n",
            "Epoch 61/100\n",
            "50000/50000 [==============================] - 2s 38us/step - loss: 1.0279 - acc: 0.6353 - val_loss: 1.3157 - val_acc: 0.5335\n",
            "Epoch 62/100\n",
            "50000/50000 [==============================] - 2s 37us/step - loss: 1.0167 - acc: 0.6411 - val_loss: 1.3232 - val_acc: 0.5290\n",
            "Epoch 63/100\n",
            "50000/50000 [==============================] - 2s 38us/step - loss: 1.0127 - acc: 0.6454 - val_loss: 1.3322 - val_acc: 0.5297\n",
            "Epoch 64/100\n",
            "50000/50000 [==============================] - 2s 37us/step - loss: 1.0074 - acc: 0.6449 - val_loss: 1.3079 - val_acc: 0.5378\n",
            "Epoch 65/100\n",
            "50000/50000 [==============================] - 2s 37us/step - loss: 0.9991 - acc: 0.6491 - val_loss: 1.3348 - val_acc: 0.5267\n",
            "Epoch 66/100\n",
            "50000/50000 [==============================] - 2s 37us/step - loss: 0.9925 - acc: 0.6507 - val_loss: 1.3241 - val_acc: 0.5326\n",
            "Epoch 67/100\n",
            "50000/50000 [==============================] - 2s 38us/step - loss: 0.9893 - acc: 0.6513 - val_loss: 1.3295 - val_acc: 0.5265\n",
            "Epoch 68/100\n",
            "50000/50000 [==============================] - 2s 38us/step - loss: 0.9773 - acc: 0.6543 - val_loss: 1.3296 - val_acc: 0.5320\n",
            "Epoch 69/100\n",
            "50000/50000 [==============================] - 2s 38us/step - loss: 0.9698 - acc: 0.6600 - val_loss: 1.3334 - val_acc: 0.5317\n",
            "Epoch 70/100\n",
            "50000/50000 [==============================] - 2s 37us/step - loss: 0.9561 - acc: 0.6618 - val_loss: 1.3166 - val_acc: 0.5347\n",
            "Epoch 71/100\n",
            "50000/50000 [==============================] - 2s 38us/step - loss: 0.9584 - acc: 0.6612 - val_loss: 1.3216 - val_acc: 0.5323\n",
            "Epoch 72/100\n",
            "50000/50000 [==============================] - 2s 37us/step - loss: 0.9492 - acc: 0.6662 - val_loss: 1.3195 - val_acc: 0.5362\n",
            "Epoch 73/100\n",
            "50000/50000 [==============================] - 2s 38us/step - loss: 0.9437 - acc: 0.6671 - val_loss: 1.3118 - val_acc: 0.5332\n",
            "Epoch 74/100\n",
            "50000/50000 [==============================] - 2s 38us/step - loss: 0.9379 - acc: 0.6688 - val_loss: 1.3242 - val_acc: 0.5329\n",
            "Epoch 75/100\n",
            "50000/50000 [==============================] - 2s 37us/step - loss: 0.9277 - acc: 0.6717 - val_loss: 1.3139 - val_acc: 0.5367\n",
            "Epoch 76/100\n",
            "50000/50000 [==============================] - 2s 37us/step - loss: 0.9198 - acc: 0.6778 - val_loss: 1.3757 - val_acc: 0.5250\n",
            "Epoch 77/100\n",
            "50000/50000 [==============================] - 2s 37us/step - loss: 0.9125 - acc: 0.6782 - val_loss: 1.3347 - val_acc: 0.5326\n",
            "Epoch 78/100\n",
            "50000/50000 [==============================] - 2s 39us/step - loss: 0.9113 - acc: 0.6788 - val_loss: 1.3458 - val_acc: 0.5295\n",
            "Epoch 79/100\n",
            "50000/50000 [==============================] - 2s 37us/step - loss: 0.9031 - acc: 0.6801 - val_loss: 1.3435 - val_acc: 0.5292\n",
            "Epoch 80/100\n",
            "50000/50000 [==============================] - 2s 37us/step - loss: 0.8950 - acc: 0.6862 - val_loss: 1.3358 - val_acc: 0.5285\n",
            "Epoch 81/100\n",
            "50000/50000 [==============================] - 2s 38us/step - loss: 0.8897 - acc: 0.6845 - val_loss: 1.3365 - val_acc: 0.5355\n",
            "Epoch 82/100\n",
            "50000/50000 [==============================] - 2s 38us/step - loss: 0.8781 - acc: 0.6911 - val_loss: 1.3466 - val_acc: 0.5326\n",
            "Epoch 83/100\n",
            "50000/50000 [==============================] - 2s 37us/step - loss: 0.8760 - acc: 0.6909 - val_loss: 1.3440 - val_acc: 0.5330\n",
            "Epoch 84/100\n",
            "50000/50000 [==============================] - 2s 37us/step - loss: 0.8679 - acc: 0.6930 - val_loss: 1.3418 - val_acc: 0.5332\n",
            "Epoch 85/100\n",
            "50000/50000 [==============================] - 2s 38us/step - loss: 0.8618 - acc: 0.6963 - val_loss: 1.3688 - val_acc: 0.5301\n",
            "Epoch 86/100\n",
            "50000/50000 [==============================] - 2s 37us/step - loss: 0.8561 - acc: 0.6976 - val_loss: 1.3332 - val_acc: 0.5443\n",
            "Epoch 87/100\n",
            "50000/50000 [==============================] - 2s 38us/step - loss: 0.8481 - acc: 0.6991 - val_loss: 1.3396 - val_acc: 0.5328\n",
            "Epoch 88/100\n",
            "50000/50000 [==============================] - 2s 37us/step - loss: 0.8447 - acc: 0.7023 - val_loss: 1.3431 - val_acc: 0.5368\n",
            "Epoch 89/100\n",
            "50000/50000 [==============================] - 2s 37us/step - loss: 0.8380 - acc: 0.7046 - val_loss: 1.3400 - val_acc: 0.5368\n",
            "Epoch 90/100\n",
            "50000/50000 [==============================] - 2s 37us/step - loss: 0.8309 - acc: 0.7071 - val_loss: 1.3451 - val_acc: 0.5400\n",
            "Epoch 91/100\n",
            "50000/50000 [==============================] - 2s 38us/step - loss: 0.8259 - acc: 0.7096 - val_loss: 1.3543 - val_acc: 0.5357\n",
            "Epoch 92/100\n",
            "50000/50000 [==============================] - 2s 37us/step - loss: 0.8170 - acc: 0.7116 - val_loss: 1.3738 - val_acc: 0.5316\n",
            "Epoch 93/100\n",
            "50000/50000 [==============================] - 2s 38us/step - loss: 0.8082 - acc: 0.7152 - val_loss: 1.3950 - val_acc: 0.5265\n",
            "Epoch 94/100\n",
            "50000/50000 [==============================] - 2s 37us/step - loss: 0.8039 - acc: 0.7172 - val_loss: 1.3474 - val_acc: 0.5357\n",
            "Epoch 95/100\n",
            "50000/50000 [==============================] - 2s 38us/step - loss: 0.7968 - acc: 0.7190 - val_loss: 1.3669 - val_acc: 0.5325\n",
            "Epoch 96/100\n",
            "50000/50000 [==============================] - 2s 37us/step - loss: 0.7945 - acc: 0.7201 - val_loss: 1.3515 - val_acc: 0.5395\n",
            "Epoch 97/100\n",
            "50000/50000 [==============================] - 2s 37us/step - loss: 0.7835 - acc: 0.7249 - val_loss: 1.3750 - val_acc: 0.5303\n",
            "Epoch 98/100\n",
            "50000/50000 [==============================] - 2s 37us/step - loss: 0.7794 - acc: 0.7249 - val_loss: 1.4036 - val_acc: 0.5292\n",
            "Epoch 99/100\n",
            "50000/50000 [==============================] - 2s 38us/step - loss: 0.7705 - acc: 0.7290 - val_loss: 1.3626 - val_acc: 0.5349\n",
            "Epoch 100/100\n",
            "50000/50000 [==============================] - 2s 37us/step - loss: 0.7656 - acc: 0.7304 - val_loss: 1.3917 - val_acc: 0.5348\n"
          ],
          "name": "stdout"
        }
      ]
    },
    {
      "cell_type": "code",
      "metadata": {
        "id": "Vm8ipImrOzYQ",
        "colab_type": "code",
        "colab": {
          "base_uri": "https://localhost:8080/",
          "height": 1000
        },
        "outputId": "16af80fe-4bdb-47e2-96f6-0f0713a3cfe0"
      },
      "source": [
        "import matplotlib.pyplot as plt\n",
        "%matplotlib inline\n",
        "\n",
        "plt.plot(range(len(train_loss)), train_loss, label=\"train loss\")\n",
        "plt.plot(range(len(valid_loss)), valid_loss, label=\"valid loss\")\n",
        "plt.legend()\n",
        "plt.title(\"Loss\")\n",
        "plt.show()\n",
        "\n",
        "plt.plot(range(len(train_acc)), train_acc, label=\"train accuracy\")\n",
        "plt.plot(range(len(valid_acc)), valid_acc, label=\"valid accuracy\")\n",
        "plt.legend()\n",
        "plt.title(\"Accuracy\")\n",
        "plt.show()\n",
        "\n",
        "plt.plot(range(len(valid_tp)), valid_tp, label=\"val_tp\")\n",
        "plt.legend()\n",
        "plt.title(\"val_tp\")\n",
        "plt.show()\n",
        "\n",
        "plt.plot(range(len(valid_tn)), valid_tn, label=\"val_tn\")\n",
        "plt.legend()\n",
        "plt.title(\"val_tn\")\n",
        "plt.show()"
      ],
      "execution_count": 9,
      "outputs": [
        {
          "output_type": "display_data",
          "data": {
            "image/png": "[encoded data removed]",
            "text/plain": [
              "<Figure size 432x288 with 1 Axes>"
            ]
          },
          "metadata": {
            "tags": []
          }
        },
        {
          "output_type": "display_data",
          "data": {
            "image/png": "[encoded data removed]",
            "text/plain": [
              "<Figure size 432x288 with 1 Axes>"
            ]
          },
          "metadata": {
            "tags": []
          }
        },
        {
          "output_type": "display_data",
          "data": {
            "image/png": "[encoded data removed]",
            "text/plain": [
              "<Figure size 432x288 with 1 Axes>"
            ]
          },
          "metadata": {
            "tags": []
          }
        },
        {
          "output_type": "display_data",
          "data": {
            "image/png": "[encoded data removed]",
            "text/plain": [
              "<Figure size 432x288 with 1 Axes>"
            ]
          },
          "metadata": {
            "tags": []
          }
        }
      ]
    },
    {
      "cell_type": "code",
      "metadata": {
        "id": "2BAem56bSDEn",
        "colab_type": "code",
        "colab": {}
      },
      "source": [
        ""
      ],
      "execution_count": 0,
      "outputs": []
    }
  ]
}