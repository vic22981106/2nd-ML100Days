{
 "cells": [
  {
   "cell_type": "code",
   "execution_count": 1,
   "metadata": {},
   "outputs": [
    {
     "name": "stdout",
     "output_type": "stream",
     "text": [
      "/bin/sh: nvidia-smi: command not found\r\n"
     ]
    }
   ],
   "source": [
    "# check my environment (with or without GPU )\n",
    "!nvidia-smi"
   ]
  },
  {
   "cell_type": "code",
   "execution_count": 2,
   "metadata": {},
   "outputs": [
    {
     "name": "stderr",
     "output_type": "stream",
     "text": [
      "Using TensorFlow backend.\n"
     ]
    }
   ],
   "source": [
    "import os\n",
    "import keras\n",
    "\n",
    "# 本範例不需使用 GPU, 將 GPU 設定為 \"無\"\n",
    "os.environ[\"CUDA_VISIBLE_DEVICES\"] = \"無\""
   ]
  },
  {
   "cell_type": "code",
   "execution_count": 3,
   "metadata": {},
   "outputs": [],
   "source": [
    "# loading training data from keras dataset\n",
    "(x_train, y_train), (x_test, y_test) = keras.datasets.cifar10.load_data()"
   ]
  },
  {
   "cell_type": "code",
   "execution_count": 4,
   "metadata": {},
   "outputs": [],
   "source": [
    "# function : for preprocessing data ( both x and y)\n",
    "\n",
    "def preproc_x(x, flatten=True):\n",
    "    x = (x-x.min()) / (x.max()-x.min())\n",
    "    x = 2*x - 1\n",
    "    if flatten:\n",
    "        x = x.reshape((len(x), -1))\n",
    "    return x\n",
    "\n",
    "def preproc_y(y, num_classes=10):\n",
    "    if y.shape[-1] == 1:\n",
    "        y = keras.utils.to_categorical(y, num_classes)\n",
    "    return y    "
   ]
  },
  {
   "cell_type": "code",
   "execution_count": 5,
   "metadata": {},
   "outputs": [],
   "source": [
    "# Preproc the inputs\n",
    "x_train = preproc_x(x_train)\n",
    "x_test = preproc_x(x_test)\n",
    "\n",
    "# Preprc the outputs\n",
    "y_train = preproc_y(y_train)\n",
    "y_test = preproc_y(y_test)"
   ]
  },
  {
   "cell_type": "code",
   "execution_count": 6,
   "metadata": {},
   "outputs": [
    {
     "name": "stdout",
     "output_type": "stream",
     "text": [
      "The maximun of x_train:  1.0\n",
      "The minimun of x_train:  -1.0\n"
     ]
    }
   ],
   "source": [
    "print(\"The maximun of x_train: \",x_train.max())\n",
    "print(\"The minimun of x_train: \",x_train.min())"
   ]
  },
  {
   "cell_type": "code",
   "execution_count": 7,
   "metadata": {},
   "outputs": [],
   "source": [
    "def build_mlp(input_shape, output_units=10, num_neurons=[512, 256, 128]):\n",
    "    input_layer = keras.layers.Input(input_shape)\n",
    "    \n",
    "    for i, n_units in enumerate(num_neurons):\n",
    "        if i == 0:\n",
    "            x = keras.layers.Dense(units=n_units, activation=\"relu\", name=\"hidden_layer\"+str(i+1))(input_layer)\n",
    "        else:\n",
    "            x = keras.layers.Dense(units=n_units, activation=\"relu\", name=\"hidden_layer\"+str(i+1))(x)\n",
    "    \n",
    "    out = keras.layers.Dense(units=output_units, activation=\"softmax\", name=\"output\")(x)\n",
    "    \n",
    "    model = keras.models.Model(inputs=[input_layer], outputs=[out])\n",
    "    return model"
   ]
  },
  {
   "cell_type": "code",
   "execution_count": 8,
   "metadata": {},
   "outputs": [
    {
     "name": "stdout",
     "output_type": "stream",
     "text": [
      "WARNING:tensorflow:From /Users/vincent/anaconda3/lib/python3.7/site-packages/tensorflow/python/framework/op_def_library.py:263: colocate_with (from tensorflow.python.framework.ops) is deprecated and will be removed in a future version.\n",
      "Instructions for updating:\n",
      "Colocations handled automatically by placer.\n",
      "_________________________________________________________________\n",
      "Layer (type)                 Output Shape              Param #   \n",
      "=================================================================\n",
      "input_1 (InputLayer)         (None, 3072)              0         \n",
      "_________________________________________________________________\n",
      "hidden_layer1 (Dense)        (None, 512)               1573376   \n",
      "_________________________________________________________________\n",
      "hidden_layer2 (Dense)        (None, 256)               131328    \n",
      "_________________________________________________________________\n",
      "hidden_layer3 (Dense)        (None, 128)               32896     \n",
      "_________________________________________________________________\n",
      "output (Dense)               (None, 10)                1290      \n",
      "=================================================================\n",
      "Total params: 1,738,890\n",
      "Trainable params: 1,738,890\n",
      "Non-trainable params: 0\n",
      "_________________________________________________________________\n"
     ]
    }
   ],
   "source": [
    "model = build_mlp(input_shape=x_train.shape[1:])\n",
    "model.summary()"
   ]
  },
  {
   "cell_type": "code",
   "execution_count": 9,
   "metadata": {},
   "outputs": [],
   "source": [
    "# hyperparameters\n",
    "LEARNING_RATE = 0.001\n",
    "EPOCHS = 100\n",
    "BATCH_SIZE = 256"
   ]
  },
  {
   "cell_type": "code",
   "execution_count": 10,
   "metadata": {},
   "outputs": [],
   "source": [
    "optimizer = keras.optimizers.Adam(lr=LEARNING_RATE)\n",
    "model.compile(loss=\"categorical_crossentropy\", metrics=[\"accuracy\"], optimizer=optimizer)"
   ]
  },
  {
   "cell_type": "code",
   "execution_count": 11,
   "metadata": {},
   "outputs": [
    {
     "name": "stdout",
     "output_type": "stream",
     "text": [
      "WARNING:tensorflow:From /Users/vincent/anaconda3/lib/python3.7/site-packages/tensorflow/python/ops/math_ops.py:3066: to_int32 (from tensorflow.python.ops.math_ops) is deprecated and will be removed in a future version.\n",
      "Instructions for updating:\n",
      "Use tf.cast instead.\n",
      "Train on 50000 samples, validate on 10000 samples\n",
      "Epoch 1/100\n",
      "50000/50000 [==============================] - 15s 292us/step - loss: 1.6709 - acc: 0.4109 - val_loss: 1.5410 - val_acc: 0.4575\n",
      "Epoch 2/100\n",
      "50000/50000 [==============================] - 14s 277us/step - loss: 1.4369 - acc: 0.4954 - val_loss: 1.4449 - val_acc: 0.4880\n",
      "Epoch 3/100\n",
      "50000/50000 [==============================] - 14s 275us/step - loss: 1.3201 - acc: 0.5336 - val_loss: 1.3869 - val_acc: 0.5103\n",
      "Epoch 4/100\n",
      "50000/50000 [==============================] - 15s 302us/step - loss: 1.2221 - acc: 0.5696 - val_loss: 1.3807 - val_acc: 0.5178\n",
      "Epoch 5/100\n",
      "50000/50000 [==============================] - 15s 296us/step - loss: 1.1435 - acc: 0.6001 - val_loss: 1.3967 - val_acc: 0.5182\n",
      "Epoch 6/100\n",
      "50000/50000 [==============================] - 14s 275us/step - loss: 1.0644 - acc: 0.6249 - val_loss: 1.3871 - val_acc: 0.5279\n",
      "Epoch 7/100\n",
      "50000/50000 [==============================] - 13s 260us/step - loss: 0.9791 - acc: 0.6545 - val_loss: 1.4030 - val_acc: 0.5255\n",
      "Epoch 8/100\n",
      "50000/50000 [==============================] - 13s 260us/step - loss: 0.9067 - acc: 0.6815 - val_loss: 1.4292 - val_acc: 0.5259\n",
      "Epoch 9/100\n",
      "50000/50000 [==============================] - 13s 261us/step - loss: 0.8260 - acc: 0.7075 - val_loss: 1.4657 - val_acc: 0.5356\n",
      "Epoch 10/100\n",
      "50000/50000 [==============================] - 13s 270us/step - loss: 0.7595 - acc: 0.7306 - val_loss: 1.5059 - val_acc: 0.5307\n",
      "Epoch 11/100\n",
      "50000/50000 [==============================] - 13s 269us/step - loss: 0.6848 - acc: 0.7569 - val_loss: 1.5978 - val_acc: 0.5374\n",
      "Epoch 12/100\n",
      "50000/50000 [==============================] - 14s 271us/step - loss: 0.6190 - acc: 0.7819 - val_loss: 1.6735 - val_acc: 0.5323\n",
      "Epoch 13/100\n",
      "50000/50000 [==============================] - 14s 273us/step - loss: 0.5551 - acc: 0.8047 - val_loss: 1.7296 - val_acc: 0.5312\n",
      "Epoch 14/100\n",
      "50000/50000 [==============================] - 14s 274us/step - loss: 0.4995 - acc: 0.8247 - val_loss: 1.8143 - val_acc: 0.5347\n",
      "Epoch 15/100\n",
      "50000/50000 [==============================] - 14s 275us/step - loss: 0.4494 - acc: 0.8430 - val_loss: 1.9468 - val_acc: 0.5324\n",
      "Epoch 16/100\n",
      "50000/50000 [==============================] - 14s 278us/step - loss: 0.4172 - acc: 0.8535 - val_loss: 2.0602 - val_acc: 0.5356\n",
      "Epoch 17/100\n",
      "50000/50000 [==============================] - 14s 282us/step - loss: 0.3644 - acc: 0.8729 - val_loss: 2.1604 - val_acc: 0.5216\n",
      "Epoch 18/100\n",
      "50000/50000 [==============================] - 14s 285us/step - loss: 0.3354 - acc: 0.8819 - val_loss: 2.2618 - val_acc: 0.5292\n",
      "Epoch 19/100\n",
      "50000/50000 [==============================] - 14s 287us/step - loss: 0.3028 - acc: 0.8942 - val_loss: 2.3263 - val_acc: 0.5236\n",
      "Epoch 20/100\n",
      "50000/50000 [==============================] - 15s 291us/step - loss: 0.2828 - acc: 0.9014 - val_loss: 2.4382 - val_acc: 0.5251\n",
      "Epoch 21/100\n",
      "50000/50000 [==============================] - 14s 290us/step - loss: 0.2673 - acc: 0.9066 - val_loss: 2.4944 - val_acc: 0.5293\n",
      "Epoch 22/100\n",
      "50000/50000 [==============================] - 15s 292us/step - loss: 0.2527 - acc: 0.9135 - val_loss: 2.5000 - val_acc: 0.5276\n",
      "Epoch 23/100\n",
      "50000/50000 [==============================] - 15s 296us/step - loss: 0.2394 - acc: 0.9174 - val_loss: 2.6390 - val_acc: 0.5250\n",
      "Epoch 24/100\n",
      "50000/50000 [==============================] - 15s 300us/step - loss: 0.2216 - acc: 0.9237 - val_loss: 2.7165 - val_acc: 0.5235\n",
      "Epoch 25/100\n",
      "50000/50000 [==============================] - 15s 290us/step - loss: 0.2271 - acc: 0.9210 - val_loss: 2.8278 - val_acc: 0.5259\n",
      "Epoch 26/100\n",
      "50000/50000 [==============================] - 15s 294us/step - loss: 0.1864 - acc: 0.9358 - val_loss: 2.9059 - val_acc: 0.5259\n",
      "Epoch 27/100\n",
      "50000/50000 [==============================] - 15s 294us/step - loss: 0.1828 - acc: 0.9364 - val_loss: 2.9239 - val_acc: 0.5304\n",
      "Epoch 28/100\n",
      "50000/50000 [==============================] - 15s 296us/step - loss: 0.1918 - acc: 0.9346 - val_loss: 2.9990 - val_acc: 0.5222\n",
      "Epoch 29/100\n",
      "50000/50000 [==============================] - 15s 299us/step - loss: 0.1925 - acc: 0.9330 - val_loss: 2.9800 - val_acc: 0.5264\n",
      "Epoch 30/100\n",
      "50000/50000 [==============================] - 15s 302us/step - loss: 0.1536 - acc: 0.9477 - val_loss: 3.1174 - val_acc: 0.5345\n",
      "Epoch 31/100\n",
      "50000/50000 [==============================] - 15s 303us/step - loss: 0.1833 - acc: 0.9380 - val_loss: 3.1568 - val_acc: 0.5250\n",
      "Epoch 32/100\n",
      "50000/50000 [==============================] - 15s 305us/step - loss: 0.1590 - acc: 0.9459 - val_loss: 3.1809 - val_acc: 0.5270\n",
      "Epoch 33/100\n",
      "50000/50000 [==============================] - 15s 306us/step - loss: 0.1264 - acc: 0.9570 - val_loss: 3.2888 - val_acc: 0.5239\n",
      "Epoch 34/100\n",
      "50000/50000 [==============================] - 15s 309us/step - loss: 0.1451 - acc: 0.9513 - val_loss: 3.3141 - val_acc: 0.5202\n",
      "Epoch 35/100\n",
      "50000/50000 [==============================] - 16s 311us/step - loss: 0.1385 - acc: 0.9511 - val_loss: 3.4022 - val_acc: 0.5257\n",
      "Epoch 36/100\n",
      "50000/50000 [==============================] - 16s 316us/step - loss: 0.1477 - acc: 0.9497 - val_loss: 3.3478 - val_acc: 0.5212\n",
      "Epoch 37/100\n",
      "50000/50000 [==============================] - 16s 317us/step - loss: 0.1450 - acc: 0.9514 - val_loss: 3.4496 - val_acc: 0.5220\n",
      "Epoch 38/100\n",
      "50000/50000 [==============================] - 16s 315us/step - loss: 0.1425 - acc: 0.9522 - val_loss: 3.4524 - val_acc: 0.5190\n",
      "Epoch 39/100\n",
      "50000/50000 [==============================] - 16s 319us/step - loss: 0.1301 - acc: 0.9554 - val_loss: 3.5039 - val_acc: 0.5292\n",
      "Epoch 40/100\n",
      "50000/50000 [==============================] - 16s 319us/step - loss: 0.1202 - acc: 0.9593 - val_loss: 3.5093 - val_acc: 0.5290\n",
      "Epoch 41/100\n",
      "50000/50000 [==============================] - 19s 384us/step - loss: 0.1290 - acc: 0.9569 - val_loss: 3.5401 - val_acc: 0.5293\n",
      "Epoch 42/100\n",
      "50000/50000 [==============================] - 16s 321us/step - loss: 0.1340 - acc: 0.9542 - val_loss: 3.5633 - val_acc: 0.5274\n",
      "Epoch 43/100\n",
      "50000/50000 [==============================] - 16s 323us/step - loss: 0.1089 - acc: 0.9625 - val_loss: 3.6434 - val_acc: 0.5267\n",
      "Epoch 44/100\n",
      "50000/50000 [==============================] - 16s 322us/step - loss: 0.1071 - acc: 0.9632 - val_loss: 3.6524 - val_acc: 0.5188\n",
      "Epoch 45/100\n",
      "50000/50000 [==============================] - 16s 323us/step - loss: 0.1218 - acc: 0.9600 - val_loss: 3.6915 - val_acc: 0.5240\n",
      "Epoch 46/100\n",
      "50000/50000 [==============================] - 16s 326us/step - loss: 0.1276 - acc: 0.9581 - val_loss: 3.7853 - val_acc: 0.5168\n",
      "Epoch 47/100\n",
      "50000/50000 [==============================] - 23s 464us/step - loss: 0.1194 - acc: 0.9606 - val_loss: 3.7817 - val_acc: 0.5194\n",
      "Epoch 48/100\n",
      "50000/50000 [==============================] - 18s 355us/step - loss: 0.0929 - acc: 0.9685 - val_loss: 3.7305 - val_acc: 0.5325\n",
      "Epoch 49/100\n",
      "50000/50000 [==============================] - 16s 327us/step - loss: 0.0992 - acc: 0.9674 - val_loss: 3.8516 - val_acc: 0.5243\n",
      "Epoch 50/100\n",
      "50000/50000 [==============================] - 16s 320us/step - loss: 0.1184 - acc: 0.9606 - val_loss: 3.8439 - val_acc: 0.5276\n",
      "Epoch 51/100\n",
      "50000/50000 [==============================] - 16s 326us/step - loss: 0.1305 - acc: 0.9569 - val_loss: 3.8715 - val_acc: 0.5205\n",
      "Epoch 52/100\n",
      "50000/50000 [==============================] - 16s 325us/step - loss: 0.1265 - acc: 0.9587 - val_loss: 3.8433 - val_acc: 0.5213\n",
      "Epoch 53/100\n",
      "50000/50000 [==============================] - 17s 342us/step - loss: 0.0923 - acc: 0.9695 - val_loss: 3.8629 - val_acc: 0.5290\n",
      "Epoch 54/100\n",
      "50000/50000 [==============================] - 17s 334us/step - loss: 0.0880 - acc: 0.9698 - val_loss: 3.9218 - val_acc: 0.5266\n",
      "Epoch 55/100\n",
      "50000/50000 [==============================] - 18s 358us/step - loss: 0.1025 - acc: 0.9673 - val_loss: 4.0526 - val_acc: 0.5247\n",
      "Epoch 56/100\n",
      "50000/50000 [==============================] - 19s 389us/step - loss: 0.1233 - acc: 0.9594 - val_loss: 3.9817 - val_acc: 0.5212\n"
     ]
    },
    {
     "name": "stdout",
     "output_type": "stream",
     "text": [
      "Epoch 57/100\n",
      "50000/50000 [==============================] - 19s 380us/step - loss: 0.0994 - acc: 0.9674 - val_loss: 4.0150 - val_acc: 0.5210\n",
      "Epoch 58/100\n",
      "50000/50000 [==============================] - 13s 260us/step - loss: 0.1001 - acc: 0.9675 - val_loss: 4.0540 - val_acc: 0.5177\n",
      "Epoch 59/100\n",
      "50000/50000 [==============================] - 13s 255us/step - loss: 0.1031 - acc: 0.9665 - val_loss: 4.1107 - val_acc: 0.5267\n",
      "Epoch 60/100\n",
      "50000/50000 [==============================] - 13s 255us/step - loss: 0.0885 - acc: 0.9717 - val_loss: 4.0829 - val_acc: 0.5214\n",
      "Epoch 61/100\n",
      "50000/50000 [==============================] - 13s 251us/step - loss: 0.0937 - acc: 0.9697 - val_loss: 4.0877 - val_acc: 0.5206\n",
      "Epoch 62/100\n",
      "50000/50000 [==============================] - 13s 255us/step - loss: 0.0895 - acc: 0.9710 - val_loss: 4.1625 - val_acc: 0.5226\n",
      "Epoch 63/100\n",
      "50000/50000 [==============================] - 13s 255us/step - loss: 0.0856 - acc: 0.9721 - val_loss: 4.1081 - val_acc: 0.5225\n",
      "Epoch 64/100\n",
      "50000/50000 [==============================] - 13s 263us/step - loss: 0.1138 - acc: 0.9645 - val_loss: 4.0362 - val_acc: 0.5226\n",
      "Epoch 65/100\n",
      "50000/50000 [==============================] - 13s 262us/step - loss: 0.0874 - acc: 0.9713 - val_loss: 4.1105 - val_acc: 0.5224\n",
      "Epoch 66/100\n",
      "50000/50000 [==============================] - 13s 261us/step - loss: 0.0667 - acc: 0.9786 - val_loss: 4.1585 - val_acc: 0.5220\n",
      "Epoch 67/100\n",
      "50000/50000 [==============================] - 13s 261us/step - loss: 0.0835 - acc: 0.9726 - val_loss: 4.1692 - val_acc: 0.5254\n",
      "Epoch 68/100\n",
      "50000/50000 [==============================] - 13s 266us/step - loss: 0.1064 - acc: 0.9668 - val_loss: 4.1322 - val_acc: 0.5173\n",
      "Epoch 69/100\n",
      "50000/50000 [==============================] - 13s 267us/step - loss: 0.1151 - acc: 0.9636 - val_loss: 4.1105 - val_acc: 0.5234\n",
      "Epoch 70/100\n",
      "50000/50000 [==============================] - 13s 264us/step - loss: 0.0975 - acc: 0.9687 - val_loss: 4.1667 - val_acc: 0.5239\n",
      "Epoch 71/100\n",
      "50000/50000 [==============================] - 13s 266us/step - loss: 0.0760 - acc: 0.9756 - val_loss: 4.1911 - val_acc: 0.5253\n",
      "Epoch 72/100\n",
      "50000/50000 [==============================] - 13s 267us/step - loss: 0.0614 - acc: 0.9805 - val_loss: 4.1141 - val_acc: 0.5327\n",
      "Epoch 73/100\n",
      "50000/50000 [==============================] - 13s 267us/step - loss: 0.0551 - acc: 0.9825 - val_loss: 4.3111 - val_acc: 0.5266\n",
      "Epoch 74/100\n",
      "50000/50000 [==============================] - 14s 270us/step - loss: 0.0866 - acc: 0.9726 - val_loss: 4.3704 - val_acc: 0.5213\n",
      "Epoch 75/100\n",
      "50000/50000 [==============================] - 14s 282us/step - loss: 0.0996 - acc: 0.9681 - val_loss: 4.2120 - val_acc: 0.5223\n",
      "Epoch 76/100\n",
      "50000/50000 [==============================] - 14s 280us/step - loss: 0.1001 - acc: 0.9679 - val_loss: 4.3235 - val_acc: 0.5165\n",
      "Epoch 77/100\n",
      "50000/50000 [==============================] - 14s 278us/step - loss: 0.0946 - acc: 0.9693 - val_loss: 4.2461 - val_acc: 0.5255\n",
      "Epoch 78/100\n",
      "50000/50000 [==============================] - 15s 299us/step - loss: 0.0772 - acc: 0.9757 - val_loss: 4.2915 - val_acc: 0.5250\n",
      "Epoch 79/100\n",
      "50000/50000 [==============================] - 14s 281us/step - loss: 0.1034 - acc: 0.9682 - val_loss: 4.2572 - val_acc: 0.5210\n",
      "Epoch 80/100\n",
      "50000/50000 [==============================] - 14s 279us/step - loss: 0.0732 - acc: 0.9765 - val_loss: 4.2576 - val_acc: 0.5280\n",
      "Epoch 81/100\n",
      "50000/50000 [==============================] - 14s 284us/step - loss: 0.0679 - acc: 0.9783 - val_loss: 4.2896 - val_acc: 0.5253\n",
      "Epoch 82/100\n",
      "50000/50000 [==============================] - 14s 285us/step - loss: 0.0633 - acc: 0.9801 - val_loss: 4.3563 - val_acc: 0.5266\n",
      "Epoch 83/100\n",
      "50000/50000 [==============================] - 14s 284us/step - loss: 0.0550 - acc: 0.9824 - val_loss: 4.4388 - val_acc: 0.5259\n",
      "Epoch 84/100\n",
      "50000/50000 [==============================] - 15s 291us/step - loss: 0.0860 - acc: 0.9735 - val_loss: 4.3234 - val_acc: 0.5211\n",
      "Epoch 85/100\n",
      "50000/50000 [==============================] - 14s 289us/step - loss: 0.0913 - acc: 0.9717 - val_loss: 4.4418 - val_acc: 0.5176\n",
      "Epoch 86/100\n",
      "50000/50000 [==============================] - 15s 290us/step - loss: 0.0997 - acc: 0.9686 - val_loss: 4.3942 - val_acc: 0.5205\n",
      "Epoch 87/100\n",
      "50000/50000 [==============================] - 15s 291us/step - loss: 0.0757 - acc: 0.9768 - val_loss: 4.3757 - val_acc: 0.5213\n",
      "Epoch 88/100\n",
      "50000/50000 [==============================] - 15s 301us/step - loss: 0.0580 - acc: 0.9814 - val_loss: 4.3807 - val_acc: 0.5282\n",
      "Epoch 89/100\n",
      "50000/50000 [==============================] - 15s 294us/step - loss: 0.0429 - acc: 0.9860 - val_loss: 4.4075 - val_acc: 0.5222\n",
      "Epoch 90/100\n",
      "50000/50000 [==============================] - 15s 296us/step - loss: 0.0806 - acc: 0.9754 - val_loss: 4.4093 - val_acc: 0.5209\n",
      "Epoch 91/100\n",
      "50000/50000 [==============================] - 15s 297us/step - loss: 0.0567 - acc: 0.9813 - val_loss: 4.4367 - val_acc: 0.5252\n",
      "Epoch 92/100\n",
      "50000/50000 [==============================] - 15s 298us/step - loss: 0.0999 - acc: 0.9690 - val_loss: 4.5324 - val_acc: 0.5191\n",
      "Epoch 93/100\n",
      "50000/50000 [==============================] - 15s 297us/step - loss: 0.1032 - acc: 0.9696 - val_loss: 4.3957 - val_acc: 0.5278\n",
      "Epoch 94/100\n",
      "50000/50000 [==============================] - 15s 302us/step - loss: 0.0726 - acc: 0.9774 - val_loss: 4.5368 - val_acc: 0.5235\n",
      "Epoch 95/100\n",
      "50000/50000 [==============================] - 16s 317us/step - loss: 0.0604 - acc: 0.9808 - val_loss: 4.4680 - val_acc: 0.5290\n",
      "Epoch 96/100\n",
      "50000/50000 [==============================] - 18s 360us/step - loss: 0.0581 - acc: 0.9823 - val_loss: 4.5405 - val_acc: 0.5225\n",
      "Epoch 97/100\n",
      "50000/50000 [==============================] - 16s 316us/step - loss: 0.0873 - acc: 0.9748 - val_loss: 4.4519 - val_acc: 0.5287\n",
      "Epoch 98/100\n",
      "50000/50000 [==============================] - 16s 315us/step - loss: 0.0739 - acc: 0.9769 - val_loss: 4.4920 - val_acc: 0.5243\n",
      "Epoch 99/100\n",
      "50000/50000 [==============================] - 16s 328us/step - loss: 0.0573 - acc: 0.9825 - val_loss: 4.4677 - val_acc: 0.5230\n",
      "Epoch 100/100\n",
      "50000/50000 [==============================] - 17s 341us/step - loss: 0.0619 - acc: 0.9813 - val_loss: 4.5258 - val_acc: 0.5323\n"
     ]
    },
    {
     "data": {
      "text/plain": [
       "<keras.callbacks.History at 0x13317eb38>"
      ]
     },
     "execution_count": 11,
     "metadata": {},
     "output_type": "execute_result"
    }
   ],
   "source": [
    "model.fit(x_train, y_train, \n",
    "          epochs=EPOCHS, \n",
    "          batch_size=BATCH_SIZE, \n",
    "          validation_data=(x_test, y_test), \n",
    "          shuffle=True)"
   ]
  },
  {
   "cell_type": "code",
   "execution_count": 13,
   "metadata": {},
   "outputs": [
    {
     "data": {
      "image/png": "[encoded data removed]",
      "text/plain": [
       "<Figure size 432x288 with 1 Axes>"
      ]
     },
     "metadata": {
      "needs_background": "light"
     },
     "output_type": "display_data"
    },
    {
     "data": {
      "image/png": "[encoded data removed]",
      "text/plain": [
       "<Figure size 432x288 with 1 Axes>"
      ]
     },
     "metadata": {
      "needs_background": "light"
     },
     "output_type": "display_data"
    }
   ],
   "source": [
    "# plotting of the result after training\n",
    "import matplotlib.pyplot as plt\n",
    "%matplotlib inline\n",
    "\n",
    "train_loss = model.history.history[\"loss\"]\n",
    "valid_loss = model.history.history[\"val_loss\"]\n",
    "\n",
    "train_acc = model.history.history[\"acc\"]\n",
    "valid_acc = model.history.history[\"val_acc\"]\n",
    "\n",
    "plt.plot(range(len(train_loss)), train_loss, label=\"train loss\")\n",
    "plt.plot(range(len(valid_loss)), valid_loss, label=\"valid loss\")\n",
    "plt.legend()\n",
    "plt.title(\"Loss\")\n",
    "plt.show()\n",
    "\n",
    "plt.plot(range(len(train_acc)), train_acc, label=\"train accuracy\")\n",
    "plt.plot(range(len(valid_acc)), valid_acc, label=\"valid accuracy\")\n",
    "plt.legend()\n",
    "plt.title(\"Accuracy\")\n",
    "plt.show()"
   ]
  },
  {
   "cell_type": "code",
   "execution_count": 15,
   "metadata": {},
   "outputs": [
    {
     "name": "stdout",
     "output_type": "stream",
     "text": [
      "_________________________________________________________________\n",
      "Layer (type)                 Output Shape              Param #   \n",
      "=================================================================\n",
      "input_3 (InputLayer)         (None, 3072)              0         \n",
      "_________________________________________________________________\n",
      "hidden_layer1 (Dense)        (None, 512)               1573376   \n",
      "_________________________________________________________________\n",
      "hidden_layer2 (Dense)        (None, 256)               131328    \n",
      "_________________________________________________________________\n",
      "hidden_layer3 (Dense)        (None, 128)               32896     \n",
      "_________________________________________________________________\n",
      "hidden_layer4 (Dense)        (None, 64)                8256      \n",
      "_________________________________________________________________\n",
      "hidden_layer5 (Dense)        (None, 32)                2080      \n",
      "_________________________________________________________________\n",
      "hidden_layer6 (Dense)        (None, 16)                528       \n",
      "_________________________________________________________________\n",
      "output (Dense)               (None, 10)                170       \n",
      "=================================================================\n",
      "Total params: 1,748,634\n",
      "Trainable params: 1,748,634\n",
      "Non-trainable params: 0\n",
      "_________________________________________________________________\n"
     ]
    }
   ],
   "source": [
    "model2 = build_mlp(input_shape=x_train.shape[1:],num_neurons=[512, 256, 128,64,32,16])\n",
    "model2.summary()"
   ]
  },
  {
   "cell_type": "code",
   "execution_count": 16,
   "metadata": {},
   "outputs": [],
   "source": [
    "# hyperparameters\n",
    "LEARNING_RATE = 0.001\n",
    "EPOCHS = 100\n",
    "BATCH_SIZE = 256\n",
    "\n",
    "optimizer = keras.optimizers.Adam(lr=LEARNING_RATE)\n",
    "model2.compile(loss=\"categorical_crossentropy\", metrics=[\"accuracy\"], optimizer=optimizer)"
   ]
  },
  {
   "cell_type": "code",
   "execution_count": 17,
   "metadata": {
    "scrolled": true
   },
   "outputs": [
    {
     "name": "stdout",
     "output_type": "stream",
     "text": [
      "Train on 50000 samples, validate on 10000 samples\n",
      "Epoch 1/100\n",
      "50000/50000 [==============================] - 20s 402us/step - loss: 1.7864 - acc: 0.3706 - val_loss: 1.5981 - val_acc: 0.4408\n",
      "Epoch 2/100\n",
      "50000/50000 [==============================] - 19s 380us/step - loss: 1.5233 - acc: 0.4655 - val_loss: 1.4687 - val_acc: 0.4828\n",
      "Epoch 3/100\n",
      "50000/50000 [==============================] - 15s 293us/step - loss: 1.3940 - acc: 0.5097 - val_loss: 1.4062 - val_acc: 0.5104\n",
      "Epoch 4/100\n",
      "50000/50000 [==============================] - 13s 262us/step - loss: 1.2983 - acc: 0.5423 - val_loss: 1.4166 - val_acc: 0.5034\n",
      "Epoch 5/100\n",
      "50000/50000 [==============================] - 13s 260us/step - loss: 1.2164 - acc: 0.5704 - val_loss: 1.4023 - val_acc: 0.5069\n",
      "Epoch 6/100\n",
      "50000/50000 [==============================] - 13s 261us/step - loss: 1.1355 - acc: 0.5999 - val_loss: 1.3901 - val_acc: 0.5176\n",
      "Epoch 7/100\n",
      "50000/50000 [==============================] - 13s 261us/step - loss: 1.0600 - acc: 0.6274 - val_loss: 1.3882 - val_acc: 0.5275\n",
      "Epoch 8/100\n",
      "50000/50000 [==============================] - 13s 263us/step - loss: 0.9947 - acc: 0.6488 - val_loss: 1.3893 - val_acc: 0.5338\n",
      "Epoch 9/100\n",
      "50000/50000 [==============================] - 14s 280us/step - loss: 0.9210 - acc: 0.6762 - val_loss: 1.4239 - val_acc: 0.5282\n",
      "Epoch 10/100\n",
      "50000/50000 [==============================] - 14s 280us/step - loss: 0.8586 - acc: 0.6972 - val_loss: 1.4384 - val_acc: 0.5333\n",
      "Epoch 11/100\n",
      "50000/50000 [==============================] - 14s 285us/step - loss: 0.7996 - acc: 0.7201 - val_loss: 1.4606 - val_acc: 0.5365\n",
      "Epoch 12/100\n",
      "50000/50000 [==============================] - 14s 285us/step - loss: 0.7373 - acc: 0.7387 - val_loss: 1.5217 - val_acc: 0.5327\n",
      "Epoch 13/100\n",
      "50000/50000 [==============================] - 14s 285us/step - loss: 0.6819 - acc: 0.7583 - val_loss: 1.6135 - val_acc: 0.5265\n",
      "Epoch 14/100\n",
      "50000/50000 [==============================] - 15s 290us/step - loss: 0.6193 - acc: 0.7825 - val_loss: 1.7299 - val_acc: 0.5344\n",
      "Epoch 15/100\n",
      "50000/50000 [==============================] - 14s 286us/step - loss: 0.5704 - acc: 0.7994 - val_loss: 1.7952 - val_acc: 0.5278\n",
      "Epoch 16/100\n",
      "50000/50000 [==============================] - 14s 286us/step - loss: 0.5274 - acc: 0.8140 - val_loss: 1.7984 - val_acc: 0.5292\n",
      "Epoch 17/100\n",
      "50000/50000 [==============================] - 14s 289us/step - loss: 0.4871 - acc: 0.8292 - val_loss: 1.9291 - val_acc: 0.5283\n",
      "Epoch 18/100\n",
      "50000/50000 [==============================] - 15s 296us/step - loss: 0.4522 - acc: 0.8418 - val_loss: 2.0227 - val_acc: 0.5252\n",
      "Epoch 19/100\n",
      "50000/50000 [==============================] - 15s 292us/step - loss: 0.3998 - acc: 0.8586 - val_loss: 2.1167 - val_acc: 0.5336\n",
      "Epoch 20/100\n",
      "50000/50000 [==============================] - 15s 297us/step - loss: 0.3837 - acc: 0.8646 - val_loss: 2.1703 - val_acc: 0.5235\n",
      "Epoch 21/100\n",
      "50000/50000 [==============================] - 15s 297us/step - loss: 0.3492 - acc: 0.8774 - val_loss: 2.1881 - val_acc: 0.5341\n",
      "Epoch 22/100\n",
      "50000/50000 [==============================] - 15s 296us/step - loss: 0.3326 - acc: 0.8839 - val_loss: 2.3305 - val_acc: 0.5301\n",
      "Epoch 23/100\n",
      "50000/50000 [==============================] - 15s 297us/step - loss: 0.3014 - acc: 0.8947 - val_loss: 2.3641 - val_acc: 0.5206\n",
      "Epoch 24/100\n",
      "50000/50000 [==============================] - 15s 300us/step - loss: 0.2958 - acc: 0.8965 - val_loss: 2.4421 - val_acc: 0.5230\n",
      "Epoch 25/100\n",
      "50000/50000 [==============================] - 15s 300us/step - loss: 0.2798 - acc: 0.9023 - val_loss: 2.5539 - val_acc: 0.5271\n",
      "Epoch 26/100\n",
      "50000/50000 [==============================] - 15s 304us/step - loss: 0.2625 - acc: 0.9082 - val_loss: 2.5829 - val_acc: 0.5280\n",
      "Epoch 27/100\n",
      "50000/50000 [==============================] - 15s 302us/step - loss: 0.2443 - acc: 0.9163 - val_loss: 2.6913 - val_acc: 0.5245\n",
      "Epoch 28/100\n",
      "50000/50000 [==============================] - 15s 303us/step - loss: 0.2420 - acc: 0.9168 - val_loss: 2.7255 - val_acc: 0.5250\n",
      "Epoch 29/100\n",
      "50000/50000 [==============================] - 16s 311us/step - loss: 0.2192 - acc: 0.9240 - val_loss: 2.8112 - val_acc: 0.5251\n",
      "Epoch 30/100\n",
      "50000/50000 [==============================] - 15s 307us/step - loss: 0.1992 - acc: 0.9321 - val_loss: 2.9397 - val_acc: 0.5239\n",
      "Epoch 31/100\n",
      "50000/50000 [==============================] - 15s 309us/step - loss: 0.2121 - acc: 0.9271 - val_loss: 2.9144 - val_acc: 0.5250\n",
      "Epoch 32/100\n",
      "50000/50000 [==============================] - 16s 314us/step - loss: 0.1832 - acc: 0.9376 - val_loss: 2.9726 - val_acc: 0.5220\n",
      "Epoch 33/100\n",
      "50000/50000 [==============================] - 16s 312us/step - loss: 0.1711 - acc: 0.9412 - val_loss: 3.0140 - val_acc: 0.5236\n",
      "Epoch 34/100\n",
      "50000/50000 [==============================] - 16s 318us/step - loss: 0.1933 - acc: 0.9332 - val_loss: 3.0549 - val_acc: 0.5264\n",
      "Epoch 35/100\n",
      "50000/50000 [==============================] - 16s 314us/step - loss: 0.1748 - acc: 0.9397 - val_loss: 3.0058 - val_acc: 0.5234\n",
      "Epoch 36/100\n",
      "50000/50000 [==============================] - 16s 324us/step - loss: 0.1551 - acc: 0.9459 - val_loss: 3.1418 - val_acc: 0.5202\n",
      "Epoch 37/100\n",
      "50000/50000 [==============================] - 18s 355us/step - loss: 0.1637 - acc: 0.9445 - val_loss: 3.1363 - val_acc: 0.5307\n",
      "Epoch 38/100\n",
      "50000/50000 [==============================] - 16s 318us/step - loss: 0.1626 - acc: 0.9440 - val_loss: 3.1443 - val_acc: 0.5221\n",
      "Epoch 39/100\n",
      "50000/50000 [==============================] - 16s 317us/step - loss: 0.1438 - acc: 0.9503 - val_loss: 3.2235 - val_acc: 0.5206\n",
      "Epoch 40/100\n",
      "50000/50000 [==============================] - 16s 319us/step - loss: 0.1561 - acc: 0.9484 - val_loss: 3.2198 - val_acc: 0.5300\n",
      "Epoch 41/100\n",
      "50000/50000 [==============================] - 16s 321us/step - loss: 0.1513 - acc: 0.9496 - val_loss: 3.3112 - val_acc: 0.5197\n",
      "Epoch 42/100\n",
      "50000/50000 [==============================] - 16s 322us/step - loss: 0.1390 - acc: 0.9537 - val_loss: 3.3413 - val_acc: 0.5229\n",
      "Epoch 43/100\n",
      "50000/50000 [==============================] - 16s 327us/step - loss: 0.1345 - acc: 0.9554 - val_loss: 3.3630 - val_acc: 0.5230\n",
      "Epoch 44/100\n",
      "50000/50000 [==============================] - 16s 325us/step - loss: 0.1384 - acc: 0.9540 - val_loss: 3.3495 - val_acc: 0.5235\n",
      "Epoch 45/100\n",
      "50000/50000 [==============================] - 17s 330us/step - loss: 0.1297 - acc: 0.9560 - val_loss: 3.4076 - val_acc: 0.5199\n",
      "Epoch 46/100\n",
      "50000/50000 [==============================] - 16s 328us/step - loss: 0.1319 - acc: 0.9566 - val_loss: 3.4313 - val_acc: 0.5199\n",
      "Epoch 47/100\n",
      "50000/50000 [==============================] - 16s 329us/step - loss: 0.1352 - acc: 0.9548 - val_loss: 3.5032 - val_acc: 0.5183\n",
      "Epoch 48/100\n",
      "50000/50000 [==============================] - 17s 332us/step - loss: 0.1205 - acc: 0.9591 - val_loss: 3.4014 - val_acc: 0.5254\n",
      "Epoch 49/100\n",
      "50000/50000 [==============================] - 17s 334us/step - loss: 0.1196 - acc: 0.9600 - val_loss: 3.5202 - val_acc: 0.5148\n",
      "Epoch 50/100\n",
      "50000/50000 [==============================] - 22s 438us/step - loss: 0.1191 - acc: 0.9599 - val_loss: 3.4763 - val_acc: 0.5294\n",
      "Epoch 51/100\n",
      "50000/50000 [==============================] - 17s 346us/step - loss: 0.0993 - acc: 0.9665 - val_loss: 3.6492 - val_acc: 0.5372\n",
      "Epoch 52/100\n",
      "50000/50000 [==============================] - 16s 327us/step - loss: 0.1285 - acc: 0.9567 - val_loss: 3.5360 - val_acc: 0.5217\n",
      "Epoch 53/100\n",
      "50000/50000 [==============================] - 16s 328us/step - loss: 0.1152 - acc: 0.9618 - val_loss: 3.5549 - val_acc: 0.5278\n",
      "Epoch 54/100\n",
      "50000/50000 [==============================] - 17s 335us/step - loss: 0.1088 - acc: 0.9640 - val_loss: 3.6532 - val_acc: 0.5210\n",
      "Epoch 55/100\n",
      "50000/50000 [==============================] - 17s 331us/step - loss: 0.0983 - acc: 0.9674 - val_loss: 3.5837 - val_acc: 0.5271\n",
      "Epoch 56/100\n",
      "50000/50000 [==============================] - 17s 332us/step - loss: 0.1105 - acc: 0.9641 - val_loss: 3.4815 - val_acc: 0.5185\n",
      "Epoch 57/100\n",
      "50000/50000 [==============================] - 17s 334us/step - loss: 0.1104 - acc: 0.9641 - val_loss: 3.6454 - val_acc: 0.5193\n",
      "Epoch 58/100\n",
      "50000/50000 [==============================] - 17s 340us/step - loss: 0.1163 - acc: 0.9613 - val_loss: 3.6434 - val_acc: 0.5183\n"
     ]
    },
    {
     "name": "stdout",
     "output_type": "stream",
     "text": [
      "Epoch 59/100\n",
      "50000/50000 [==============================] - 13s 257us/step - loss: 0.0958 - acc: 0.9679 - val_loss: 3.7496 - val_acc: 0.5212\n",
      "Epoch 60/100\n",
      "50000/50000 [==============================] - 13s 258us/step - loss: 0.1057 - acc: 0.9644 - val_loss: 3.5530 - val_acc: 0.5253\n",
      "Epoch 61/100\n",
      "50000/50000 [==============================] - 13s 257us/step - loss: 0.0965 - acc: 0.9678 - val_loss: 3.7234 - val_acc: 0.5235\n",
      "Epoch 62/100\n",
      "50000/50000 [==============================] - 13s 258us/step - loss: 0.1089 - acc: 0.9649 - val_loss: 3.6044 - val_acc: 0.5168\n",
      "Epoch 63/100\n",
      "50000/50000 [==============================] - 13s 264us/step - loss: 0.1002 - acc: 0.9670 - val_loss: 3.6442 - val_acc: 0.5254\n",
      "Epoch 64/100\n",
      "50000/50000 [==============================] - 13s 264us/step - loss: 0.0849 - acc: 0.9723 - val_loss: 3.7162 - val_acc: 0.5275\n",
      "Epoch 65/100\n",
      "50000/50000 [==============================] - 13s 260us/step - loss: 0.0906 - acc: 0.9699 - val_loss: 3.7065 - val_acc: 0.5239\n",
      "Epoch 66/100\n",
      "50000/50000 [==============================] - 13s 262us/step - loss: 0.0739 - acc: 0.9758 - val_loss: 3.8397 - val_acc: 0.5225\n",
      "Epoch 67/100\n",
      "50000/50000 [==============================] - 13s 263us/step - loss: 0.0982 - acc: 0.9664 - val_loss: 3.8243 - val_acc: 0.5236\n",
      "Epoch 68/100\n",
      "50000/50000 [==============================] - 13s 264us/step - loss: 0.0953 - acc: 0.9692 - val_loss: 3.7867 - val_acc: 0.5267\n",
      "Epoch 69/100\n",
      "50000/50000 [==============================] - 13s 265us/step - loss: 0.0818 - acc: 0.9732 - val_loss: 3.8289 - val_acc: 0.5268\n",
      "Epoch 70/100\n",
      "50000/50000 [==============================] - 14s 272us/step - loss: 0.1244 - acc: 0.9595 - val_loss: 3.6582 - val_acc: 0.5281\n",
      "Epoch 71/100\n",
      "50000/50000 [==============================] - 14s 270us/step - loss: 0.0708 - acc: 0.9764 - val_loss: 3.9077 - val_acc: 0.5214\n",
      "Epoch 72/100\n",
      "50000/50000 [==============================] - 14s 271us/step - loss: 0.0784 - acc: 0.9740 - val_loss: 3.8807 - val_acc: 0.5247\n",
      "Epoch 73/100\n",
      "50000/50000 [==============================] - 14s 273us/step - loss: 0.0818 - acc: 0.9726 - val_loss: 3.8520 - val_acc: 0.5246\n",
      "Epoch 74/100\n",
      "50000/50000 [==============================] - 14s 275us/step - loss: 0.0798 - acc: 0.9740 - val_loss: 3.8012 - val_acc: 0.5274\n",
      "Epoch 75/100\n",
      "50000/50000 [==============================] - 14s 282us/step - loss: 0.1014 - acc: 0.9671 - val_loss: 3.7948 - val_acc: 0.5302\n",
      "Epoch 76/100\n",
      "50000/50000 [==============================] - 14s 284us/step - loss: 0.0644 - acc: 0.9794 - val_loss: 3.8789 - val_acc: 0.5232\n",
      "Epoch 77/100\n",
      "50000/50000 [==============================] - 14s 284us/step - loss: 0.0797 - acc: 0.9735 - val_loss: 3.8584 - val_acc: 0.5260\n",
      "Epoch 78/100\n",
      "50000/50000 [==============================] - 14s 287us/step - loss: 0.0729 - acc: 0.9760 - val_loss: 3.8261 - val_acc: 0.5274\n",
      "Epoch 79/100\n",
      "50000/50000 [==============================] - 14s 288us/step - loss: 0.0824 - acc: 0.9730 - val_loss: 3.8922 - val_acc: 0.5239\n",
      "Epoch 80/100\n",
      "50000/50000 [==============================] - 14s 290us/step - loss: 0.0907 - acc: 0.9710 - val_loss: 3.7638 - val_acc: 0.5250\n",
      "Epoch 81/100\n",
      "50000/50000 [==============================] - 15s 292us/step - loss: 0.0814 - acc: 0.9739 - val_loss: 3.8583 - val_acc: 0.5287\n",
      "Epoch 82/100\n",
      "50000/50000 [==============================] - 15s 292us/step - loss: 0.0618 - acc: 0.9801 - val_loss: 3.9216 - val_acc: 0.5203\n",
      "Epoch 83/100\n",
      "50000/50000 [==============================] - 16s 314us/step - loss: 0.0902 - acc: 0.9703 - val_loss: 3.7840 - val_acc: 0.5246\n",
      "Epoch 84/100\n",
      "50000/50000 [==============================] - 15s 303us/step - loss: 0.0752 - acc: 0.9762 - val_loss: 3.7692 - val_acc: 0.5251\n",
      "Epoch 85/100\n",
      "50000/50000 [==============================] - 15s 301us/step - loss: 0.0575 - acc: 0.9814 - val_loss: 3.9642 - val_acc: 0.5291\n",
      "Epoch 86/100\n",
      "50000/50000 [==============================] - 15s 303us/step - loss: 0.0860 - acc: 0.9725 - val_loss: 3.8084 - val_acc: 0.5206\n",
      "Epoch 87/100\n",
      "50000/50000 [==============================] - 15s 303us/step - loss: 0.0641 - acc: 0.9784 - val_loss: 3.9221 - val_acc: 0.5306\n",
      "Epoch 88/100\n",
      "50000/50000 [==============================] - 15s 305us/step - loss: 0.0625 - acc: 0.9796 - val_loss: 4.0368 - val_acc: 0.5209\n",
      "Epoch 89/100\n",
      "50000/50000 [==============================] - 16s 320us/step - loss: 0.0878 - acc: 0.9723 - val_loss: 3.8079 - val_acc: 0.5209\n",
      "Epoch 90/100\n",
      "50000/50000 [==============================] - 16s 310us/step - loss: 0.0629 - acc: 0.9796 - val_loss: 3.9468 - val_acc: 0.5204\n",
      "Epoch 91/100\n",
      "50000/50000 [==============================] - 16s 314us/step - loss: 0.0739 - acc: 0.9765 - val_loss: 3.9559 - val_acc: 0.5191\n",
      "Epoch 92/100\n",
      "50000/50000 [==============================] - 15s 308us/step - loss: 0.0682 - acc: 0.9782 - val_loss: 3.8324 - val_acc: 0.5264\n",
      "Epoch 93/100\n",
      "50000/50000 [==============================] - 16s 312us/step - loss: 0.0556 - acc: 0.9816 - val_loss: 3.9718 - val_acc: 0.5296\n",
      "Epoch 94/100\n",
      "50000/50000 [==============================] - 16s 312us/step - loss: 0.0825 - acc: 0.9736 - val_loss: 4.0022 - val_acc: 0.5216\n",
      "Epoch 95/100\n",
      "50000/50000 [==============================] - 16s 318us/step - loss: 0.0712 - acc: 0.9771 - val_loss: 3.9237 - val_acc: 0.5372\n",
      "Epoch 96/100\n",
      "50000/50000 [==============================] - 16s 315us/step - loss: 0.0449 - acc: 0.9858 - val_loss: 4.0717 - val_acc: 0.5290\n",
      "Epoch 97/100\n",
      "50000/50000 [==============================] - 16s 318us/step - loss: 0.0655 - acc: 0.9794 - val_loss: 4.0188 - val_acc: 0.5302\n",
      "Epoch 98/100\n",
      "50000/50000 [==============================] - 16s 320us/step - loss: 0.0657 - acc: 0.9788 - val_loss: 4.0675 - val_acc: 0.5244\n",
      "Epoch 99/100\n",
      "50000/50000 [==============================] - 16s 326us/step - loss: 0.0745 - acc: 0.9766 - val_loss: 3.9471 - val_acc: 0.5222\n",
      "Epoch 100/100\n",
      "50000/50000 [==============================] - 16s 322us/step - loss: 0.0841 - acc: 0.9734 - val_loss: 3.9374 - val_acc: 0.5251\n"
     ]
    },
    {
     "data": {
      "text/plain": [
       "<keras.callbacks.History at 0x128d5feb8>"
      ]
     },
     "execution_count": 17,
     "metadata": {},
     "output_type": "execute_result"
    }
   ],
   "source": [
    "model2.fit(x_train, y_train, \n",
    "          epochs=EPOCHS, \n",
    "          batch_size=BATCH_SIZE, \n",
    "          validation_data=(x_test, y_test), \n",
    "          shuffle=True)"
   ]
  },
  {
   "cell_type": "code",
   "execution_count": 18,
   "metadata": {},
   "outputs": [
    {
     "data": {
      "image/png": "[encoded data removed]",
      "text/plain": [
       "<Figure size 432x288 with 1 Axes>"
      ]
     },
     "metadata": {
      "needs_background": "light"
     },
     "output_type": "display_data"
    },
    {
     "data": {
      "image/png": "[encoded data removed]",
      "text/plain": [
       "<Figure size 432x288 with 1 Axes>"
      ]
     },
     "metadata": {
      "needs_background": "light"
     },
     "output_type": "display_data"
    }
   ],
   "source": [
    "# plotting of the result after training\n",
    "\n",
    "train_loss = model2.history.history[\"loss\"]\n",
    "valid_loss = model2.history.history[\"val_loss\"]\n",
    "\n",
    "train_acc = model2.history.history[\"acc\"]\n",
    "valid_acc = model2.history.history[\"val_acc\"]\n",
    "\n",
    "plt.plot(range(len(train_loss)), train_loss, label=\"train loss\")\n",
    "plt.plot(range(len(valid_loss)), valid_loss, label=\"valid loss\")\n",
    "plt.legend()\n",
    "plt.title(\"Loss\")\n",
    "plt.show()\n",
    "\n",
    "plt.plot(range(len(train_acc)), train_acc, label=\"train accuracy\")\n",
    "plt.plot(range(len(valid_acc)), valid_acc, label=\"valid accuracy\")\n",
    "plt.legend()\n",
    "plt.title(\"Accuracy\")\n",
    "plt.show()"
   ]
  },
  {
   "cell_type": "code",
   "execution_count": null,
   "metadata": {},
   "outputs": [],
   "source": []
  }
 ],
 "metadata": {
  "kernelspec": {
   "display_name": "Python 3",
   "language": "python",
   "name": "python3"
  },
  "language_info": {
   "codemirror_mode": {
    "name": "ipython",
    "version": 3
   },
   "file_extension": ".py",
   "mimetype": "text/x-python",
   "name": "python",
   "nbconvert_exporter": "python",
   "pygments_lexer": "ipython3",
   "version": "3.7.1"
  }
 },
 "nbformat": 4,
 "nbformat_minor": 2
}
