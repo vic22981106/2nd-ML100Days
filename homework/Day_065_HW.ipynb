{
 "cells": [
  {
   "cell_type": "markdown",
   "metadata": {},
   "source": [
    "選擇分類資料集(右下)-螺旋雙臂 - 交錯六群，限定特徵只能使用前兩個，隱藏層 2 層滿 (共 8 * 2 =16 個神經元)，\n",
    "遞迴次數只允許跑到500次，但可以自由調整 批次大小、學習速率、啟動函數、正規化選項與參數\n",
    "在上述限制下，挑戰看看測試誤差 (Test Loss) 最低能到多少? 請回答你的上述幾項參數與 Test Loss 數"
   ]
  },
  {
   "cell_type": "code",
   "execution_count": 1,
   "metadata": {},
   "outputs": [],
   "source": [
    "# hyperparameter\n",
    "learning_rate = 0.001\n",
    "activation_function = 'ReLU'\n",
    "Regularization = \"L2\"\n",
    "Regularization_rate = 0.001\n",
    "Problem_type = \"Classification\"\n",
    "epoch = 500\n",
    "batch_size = 10\n",
    "\n",
    "Test_Loss = 0.461"
   ]
  },
  {
   "cell_type": "code",
   "execution_count": 2,
   "metadata": {},
   "outputs": [],
   "source": [
    "# hyperparameter\n",
    "learning_rate = 0.01\n",
    "activation_function = 'ReLU'\n",
    "Regularization = \"L2\"\n",
    "Regularization_rate = 0.001\n",
    "Problem_type = \"Classification\"\n",
    "epoch = 500\n",
    "batch_size = 10\n",
    "\n",
    "Test_Loss = 0.242"
   ]
  },
  {
   "cell_type": "code",
   "execution_count": 3,
   "metadata": {},
   "outputs": [],
   "source": [
    "# hyperparameter\n",
    "learning_rate = 0.1\n",
    "activation_function = 'ReLU'\n",
    "Regularization = \"L2\"\n",
    "Regularization_rate = 0.001\n",
    "Problem_type = \"Classification\"\n",
    "epoch = 500\n",
    "batch_size = 10\n",
    "\n",
    "Test_Loss = 0.15"
   ]
  },
  {
   "cell_type": "code",
   "execution_count": 4,
   "metadata": {},
   "outputs": [],
   "source": [
    "# hyperparameter\n",
    "learning_rate = 1\n",
    "activation_function = 'ReLU'\n",
    "Regularization = \"L2\"\n",
    "Regularization_rate = 0.001\n",
    "Problem_type = \"Classification\"\n",
    "epoch = 500\n",
    "batch_size = 10\n",
    "\n",
    "Test_Loss = 0.384 # do not converge!!!"
   ]
  },
  {
   "cell_type": "code",
   "execution_count": 5,
   "metadata": {},
   "outputs": [],
   "source": [
    "# hyperparameter\n",
    "learning_rate = 0.3\n",
    "activation_function = 'ReLU'\n",
    "Regularization = \"L2\"\n",
    "Regularization_rate = 0.001\n",
    "Problem_type = \"Classification\"\n",
    "epoch = 500\n",
    "batch_size = 10\n",
    "\n",
    "Test_Loss = 0.313 # do not converge!!!"
   ]
  },
  {
   "cell_type": "code",
   "execution_count": 6,
   "metadata": {},
   "outputs": [],
   "source": [
    "# hyperparameter\n",
    "learning_rate = 0.1\n",
    "activation_function = 'ReLU'\n",
    "Regularization = \"L2\"\n",
    "Regularization_rate = 0.003\n",
    "Problem_type = \"Classification\"\n",
    "epoch = 500\n",
    "batch_size = 10\n",
    "\n",
    "Test_Loss = 0.078"
   ]
  },
  {
   "cell_type": "code",
   "execution_count": 7,
   "metadata": {},
   "outputs": [],
   "source": [
    "# hyperparameter\n",
    "learning_rate = 0.1\n",
    "activation_function = 'ReLU'\n",
    "Regularization = \"L2\"\n",
    "Regularization_rate = 0.03\n",
    "Problem_type = \"Classification\"\n",
    "epoch = 500\n",
    "batch_size = 10\n",
    "\n",
    "Test_Loss = 0.183"
   ]
  },
  {
   "cell_type": "code",
   "execution_count": 8,
   "metadata": {},
   "outputs": [],
   "source": [
    "# hyperparameter\n",
    "learning_rate = 0.1\n",
    "activation_function = 'ReLU'\n",
    "Regularization = \"L2\"\n",
    "Regularization_rate = 0.1\n",
    "Problem_type = \"Classification\"\n",
    "epoch = 500\n",
    "batch_size = 10\n",
    "\n",
    "Test_Loss = 0.446"
   ]
  },
  {
   "cell_type": "code",
   "execution_count": 9,
   "metadata": {},
   "outputs": [],
   "source": [
    "# hyperparameter\n",
    "learning_rate = 0.1\n",
    "activation_function = 'ReLU'\n",
    "Regularization = \"L2\"\n",
    "Regularization_rate = 0.01\n",
    "Problem_type = \"Classification\"\n",
    "epoch = 500\n",
    "batch_size = 16\n",
    "\n",
    "Test_Loss = 0.135"
   ]
  },
  {
   "cell_type": "code",
   "execution_count": 10,
   "metadata": {},
   "outputs": [],
   "source": [
    "# hyperparameter\n",
    "learning_rate = 0.1\n",
    "activation_function = 'ReLU'\n",
    "Regularization = \"L2\"\n",
    "Regularization_rate = 0.003\n",
    "Problem_type = \"Classification\"\n",
    "epoch = 500\n",
    "batch_size = 16\n",
    "\n",
    "Test_Loss = 0.088"
   ]
  },
  {
   "cell_type": "code",
   "execution_count": 11,
   "metadata": {},
   "outputs": [],
   "source": [
    "# hyperparameter\n",
    "learning_rate = 0.1\n",
    "activation_function = 'ReLU'\n",
    "Regularization = \"L2\"\n",
    "Regularization_rate = 0.003\n",
    "Problem_type = \"Classification\"\n",
    "epoch = 500\n",
    "batch_size = 30\n",
    "\n",
    "Test_Loss = 0.246"
   ]
  },
  {
   "cell_type": "code",
   "execution_count": 12,
   "metadata": {},
   "outputs": [],
   "source": [
    "# after these experiments\n",
    "# the lowerst Test Loss and the hyperparameters are belowed\n",
    "Lowest_Test_Loss = 0.078\n",
    "\n",
    "# hyperparameter\n",
    "learning_rate = 0.1\n",
    "activation_function = 'ReLU'\n",
    "Regularization = \"L2\"\n",
    "Regularization_rate = 0.003\n",
    "Problem_type = \"Classification\"\n",
    "epoch = 500\n",
    "batch_size = 10"
   ]
  }
 ],
 "metadata": {
  "kernelspec": {
   "display_name": "Python 3",
   "language": "python",
   "name": "python3"
  },
  "language_info": {
   "codemirror_mode": {
    "name": "ipython",
    "version": 3
   },
   "file_extension": ".py",
   "mimetype": "text/x-python",
   "name": "python",
   "nbconvert_exporter": "python",
   "pygments_lexer": "ipython3",
   "version": "3.7.1"
  }
 },
 "nbformat": 4,
 "nbformat_minor": 2
}
