{
 "cells": [
  {
   "cell_type": "code",
   "execution_count": 1,
   "metadata": {},
   "outputs": [],
   "source": [
    "from sklearn import datasets, metrics\n",
    "from sklearn.ensemble import GradientBoostingClassifier\n",
    "from sklearn.model_selection import train_test_split\n",
    "from sklearn import datasets, metrics\n",
    "import cv2 as cv\n",
    "import matplotlib.pyplot as plt"
   ]
  },
  {
   "cell_type": "code",
   "execution_count": 2,
   "metadata": {},
   "outputs": [
    {
     "name": "stdout",
     "output_type": "stream",
     "text": [
      "Acuuracy:  0.9666666666666667\n"
     ]
    }
   ],
   "source": [
    "digits = datasets.load_digits()\n",
    "\n",
    "# digits.data is a one-dimension (64,) array which is flattened from 8X8 images\n",
    "\n",
    "x_train, x_test, y_train, y_test = train_test_split(digits.data, digits.target, test_size=0.25, random_state=4)\n",
    "clf = GradientBoostingClassifier(\n",
    "                                                loss = \"deviance\",\n",
    "                                                learning_rate=0.1,\n",
    "                                                n_estimators=100\n",
    "                                                )\n",
    "clf.fit(x_train, y_train)\n",
    "\n",
    "# testing\n",
    "y_pred = clf.predict(x_test)\n",
    "acc = metrics.accuracy_score(y_test, y_pred)\n",
    "print(\"Acuuracy: \", acc)"
   ]
  },
  {
   "cell_type": "code",
   "execution_count": 3,
   "metadata": {},
   "outputs": [
    {
     "name": "stdout",
     "output_type": "stream",
     "text": [
      "Acuuracy:  0.9622222222222222\n"
     ]
    }
   ],
   "source": [
    "clf = GradientBoostingClassifier(\n",
    "                                                loss = \"deviance\",\n",
    "                                                learning_rate=0.01,\n",
    "                                                n_estimators=1000\n",
    "                                                )\n",
    "clf.fit(x_train, y_train)\n",
    "\n",
    "# testing\n",
    "y_pred = clf.predict(x_test)\n",
    "acc = metrics.accuracy_score(y_test, y_pred)\n",
    "print(\"Acuuracy: \", acc)"
   ]
  },
  {
   "cell_type": "code",
   "execution_count": 4,
   "metadata": {},
   "outputs": [],
   "source": [
    "# loss = \"exponential\" should have 2 class but in this case we have 10 class(0~9)"
   ]
  },
  {
   "cell_type": "code",
   "execution_count": 5,
   "metadata": {},
   "outputs": [
    {
     "name": "stdout",
     "output_type": "stream",
     "text": [
      "Acuuracy:  0.8733333333333333\n"
     ]
    }
   ],
   "source": [
    "clf = GradientBoostingClassifier(\n",
    "                                                loss = \"deviance\",\n",
    "                                                learning_rate=0.01,\n",
    "                                                n_estimators=10\n",
    "                                                )\n",
    "clf.fit(x_train, y_train)\n",
    "\n",
    "# testing\n",
    "y_pred = clf.predict(x_test)\n",
    "acc = metrics.accuracy_score(y_test, y_pred)\n",
    "print(\"Acuuracy: \", acc)"
   ]
  },
  {
   "cell_type": "code",
   "execution_count": 6,
   "metadata": {},
   "outputs": [
    {
     "name": "stdout",
     "output_type": "stream",
     "text": [
      "Acuuracy:  0.9088888888888889\n"
     ]
    }
   ],
   "source": [
    "clf = GradientBoostingClassifier(\n",
    "                                                loss = \"deviance\",\n",
    "                                                learning_rate=0.1,\n",
    "                                                n_estimators=10\n",
    "                                                )\n",
    "clf.fit(x_train, y_train)\n",
    "\n",
    "# testing\n",
    "y_pred = clf.predict(x_test)\n",
    "acc = metrics.accuracy_score(y_test, y_pred)\n",
    "print(\"Acuuracy: \", acc)"
   ]
  },
  {
   "cell_type": "code",
   "execution_count": null,
   "metadata": {},
   "outputs": [],
   "source": []
  }
 ],
 "metadata": {
  "kernelspec": {
   "display_name": "Python 3",
   "language": "python",
   "name": "python3"
  },
  "language_info": {
   "codemirror_mode": {
    "name": "ipython",
    "version": 3
   },
   "file_extension": ".py",
   "mimetype": "text/x-python",
   "name": "python",
   "nbconvert_exporter": "python",
   "pygments_lexer": "ipython3",
   "version": "3.7.1"
  }
 },
 "nbformat": 4,
 "nbformat_minor": 2
}
