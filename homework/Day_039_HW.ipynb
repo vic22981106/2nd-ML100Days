{
 "cells": [
  {
   "cell_type": "markdown",
   "metadata": {},
   "source": [
    "Q1: LASSO 回歸可以被用來作為 Feature selection 的工具，請了解 LASSO 模型為什麼可用來作 Feature selection\n",
    "\n",
    "由於在做LASSO回歸的時候，Loss Function = ||Xw−y||2+α||w|| ，所以經過迭代之後最終不重要的feature，其係數Wi就會是零，所以係數是零的feature就自動被忽略了，所以這就是為什麼LASSO regression可以拿來做feature selection。\n",
    "\n",
    "Q2: 當自變數 (X) 存在高度共線性時，Ridge Regression 可以處理這樣的問題嗎?\n",
    "\n",
    "可以，當進行Ridge Regression時， Loss Function = ||Xw−y||2+α||w||2，經過迭代之後，最後整個model的係數都會去趨近於很小的數值，所以model對於input的變化就沒有這麼敏感了。"
   ]
  },
  {
   "cell_type": "code",
   "execution_count": null,
   "metadata": {},
   "outputs": [],
   "source": []
  }
 ],
 "metadata": {
  "kernelspec": {
   "display_name": "Python 3",
   "language": "python",
   "name": "python3"
  },
  "language_info": {
   "codemirror_mode": {
    "name": "ipython",
    "version": 3
   },
   "file_extension": ".py",
   "mimetype": "text/x-python",
   "name": "python",
   "nbconvert_exporter": "python",
   "pygments_lexer": "ipython3",
   "version": "3.7.1"
  }
 },
 "nbformat": 4,
 "nbformat_minor": 2
}
