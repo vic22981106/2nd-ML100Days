{
 "cells": [
  {
   "cell_type": "markdown",
   "metadata": {},
   "source": [
    "專案的目標？ (要解決什麼問題）\n",
    "使用的技術是？ (只需知道名稱即可，例如：使用 CNN 卷積神經網路做影像分類)\n",
    "資料來源？\n",
    "\n",
    "\n",
    "我選了一篇來自2018 CVPR的論文，它的名稱是：Unsupervised Discovery of Object Landmarks as Structural Representations，作者是來自密西根大學以及Google Brain的研究團隊。\n",
    "\n",
    "1. 首先這篇論文的目標是想利用unsupervised learning 的方式讓機器去學習物體的landmark。原因是針對這一個task若是要利用supervised learning的方式去訓練模型則會受到data 數量問題的影響。\n",
    "\n",
    "2. 整個網路架構分成三個部分，首先作者透過CNN 架構 (with Encoder-Decoder architecture)來找出object的landmark (用座標來描述位置)，再來一樣利用CNN 架構去找出影像的latent code，最後利用剛剛所述的landmar以及latent code進行image reconstruction。目標函數 (objected function)就是重建的image要和原來的image越像越好，然而作者找出來的landmark需要符合三個作者所設計的constraint。首先是concentration constraint：作者將CNN output出來的feature map利用高斯分佈去模擬，作者認為這樣的一個高斯分不應該variance越小越好，也就是說分佈要愈集中愈好。再來是separation constratin：作者認為一組好的landmark應該要分佈在照片中不同且具有結構意義的區域，所以landmark和landmark之間的距離不能夠太近。最後就是equivariance constraint：所謂的landmark，當物體中的semantic meaning的區域依然存在的時候，landmark就應該要被辨識出來，所以不管照片怎麼扭曲或是旋轉，這些landmark的座標都可以透過線性轉換為原來的landmark座標。所以整體的loss包含 Reconstruction loss、concentration loss、separation loss、equivariance loss，而這四個loss各自都會乘上一個weight(可以透過機器來學習)。整個架構大致上就是這樣。另外作者也有做一個小小的實驗來測試這四個loss的重要程度，他將這四個loss分別抽離之後觀察機器的表現，結果發現separation loss是最重要的，當不考慮separation，整體的loss會上升非常多。\n",
    "\n",
    "3. 作者使用了很多dataset，包括MNIST dataset( digit image), Celeb A (human face), MAFL( human face), AFKW (human face) , Cats head, Cars from PASCAL 3D dataset, Shoes dataset, Human3.6M (contains human activity videos in stable backgrounds) "
   ]
  },
  {
   "cell_type": "code",
   "execution_count": null,
   "metadata": {},
   "outputs": [],
   "source": []
  }
 ],
 "metadata": {
  "kernelspec": {
   "display_name": "Python 3",
   "language": "python",
   "name": "python3"
  },
  "language_info": {
   "codemirror_mode": {
    "name": "ipython",
    "version": 3
   },
   "file_extension": ".py",
   "mimetype": "text/x-python",
   "name": "python",
   "nbconvert_exporter": "python",
   "pygments_lexer": "ipython3",
   "version": "3.7.1"
  }
 },
 "nbformat": 4,
 "nbformat_minor": 2
}
