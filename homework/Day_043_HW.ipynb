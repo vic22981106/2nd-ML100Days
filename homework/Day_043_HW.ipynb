{
 "cells": [
  {
   "cell_type": "markdown",
   "metadata": {},
   "source": [
    "Q1: 隨機森林中的每一棵樹，是希望能夠?\n",
    "\n",
    "Ans: 沒有任何限制，讓樹可以持續生長 (讓樹生成很深，讓模型變得複雜)，雖然每一棵樹都會有over-fitting的問題，但是當進行Ensemble之後，這樣的現象就會被改善。\n",
    "\n",
    "Q2: 假設總共有 N 筆資料，每棵樹用取後放回的方式抽了總共 N 筆資料生成，請問這棵樹大約使用了多少 % 不重複的原資料生成? (hint: 0.632 bootstrap)\n",
    "\n",
    "Ans: 根據http://sofasofa.io/forum_main_post.php?postid=1000691 的說明：假設有n個sample，隨機抽取n個sample(取後放回)。第一次抽取任意一個樣本被選到的機率是1/n，而不被選到的機率就是1-1/n。由於每次取樣之間都是獨立而且是取後放回，所以當抽完n次之後，樣本一次都沒有被抽中的機率就是(1-1/n)的n次方。隨著樣本數增加，樣本不被抽中的機率就大約等於0.3679。所以任意樣本被抽中的機率就是 1-0.3679= 0.632，由此可見使用random forset行程很多顆樹的時候，training data中大約會有63.2%的資料會被抽中。"
   ]
  }
 ],
 "metadata": {
  "kernelspec": {
   "display_name": "Python 3",
   "language": "python",
   "name": "python3"
  },
  "language_info": {
   "codemirror_mode": {
    "name": "ipython",
    "version": 3
   },
   "file_extension": ".py",
   "mimetype": "text/x-python",
   "name": "python",
   "nbconvert_exporter": "python",
   "pygments_lexer": "ipython3",
   "version": "3.7.1"
  }
 },
 "nbformat": 4,
 "nbformat_minor": 2
}
